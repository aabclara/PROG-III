{
 "cells": [
  {
   "cell_type": "markdown",
   "id": "d6612a3c",
   "metadata": {},
   "source": [
    "## Aula - 08/05/2025"
   ]
  },
  {
   "cell_type": "code",
   "execution_count": 1,
   "id": "c173909f",
   "metadata": {},
   "outputs": [],
   "source": [
    "import math # importação total\n",
    "\n",
    "from math import cos, sin # importação parcial"
   ]
  },
  {
   "cell_type": "code",
   "execution_count": 3,
   "id": "31a6f5f8",
   "metadata": {},
   "outputs": [
    {
     "data": {
      "text/plain": [
       "-0.8390715290764524"
      ]
     },
     "execution_count": 3,
     "metadata": {},
     "output_type": "execute_result"
    }
   ],
   "source": [
    "math.cos(10)"
   ]
  },
  {
   "cell_type": "code",
   "execution_count": 4,
   "id": "7286b815",
   "metadata": {},
   "outputs": [],
   "source": [
    "from numpy import cos"
   ]
  },
  {
   "cell_type": "code",
   "execution_count": null,
   "id": "128eddfc",
   "metadata": {},
   "outputs": [
    {
     "data": {
      "text/plain": [
       "np.float64(-0.8390715290764524)"
      ]
     },
     "execution_count": 5,
     "metadata": {},
     "output_type": "execute_result"
    }
   ],
   "source": [
    "cos(10) "
   ]
  },
  {
   "cell_type": "markdown",
   "id": "9a75f0ad",
   "metadata": {},
   "source": [
    "Vale o último pacote importado (no caso de repetição)"
   ]
  },
  {
   "cell_type": "code",
   "execution_count": 7,
   "id": "a6499eb1",
   "metadata": {},
   "outputs": [
    {
     "data": {
      "text/plain": [
       "np.float64(-0.8390715290764524)"
      ]
     },
     "execution_count": 7,
     "metadata": {},
     "output_type": "execute_result"
    }
   ],
   "source": [
    "import numpy as np\n",
    "np.cos(10)"
   ]
  },
  {
   "cell_type": "code",
   "execution_count": 8,
   "id": "bd5d59c4",
   "metadata": {},
   "outputs": [],
   "source": [
    "import matplotlib as plt"
   ]
  },
  {
   "cell_type": "code",
   "execution_count": 10,
   "id": "d2686655",
   "metadata": {},
   "outputs": [
    {
     "name": "stdout",
     "output_type": "stream",
     "text": [
      "[11  3 66 77 33]\n"
     ]
    },
    {
     "data": {
      "text/plain": [
       "numpy.ndarray"
      ]
     },
     "execution_count": 10,
     "metadata": {},
     "output_type": "execute_result"
    }
   ],
   "source": [
    "dados = np.array([11, 3, 66, 77, 33])\n",
    "print(dados)\n",
    "type(dados)"
   ]
  },
  {
   "cell_type": "code",
   "execution_count": 12,
   "id": "bc8dd6d5",
   "metadata": {},
   "outputs": [
    {
     "name": "stdout",
     "output_type": "stream",
     "text": [
      "5\n",
      "5\n",
      "(5,)\n",
      "int64\n"
     ]
    }
   ],
   "source": [
    "print(len(dados))\n",
    "print(dados.size)\n",
    "print(dados.shape)\n",
    "print(dados.dtype)"
   ]
  },
  {
   "cell_type": "code",
   "execution_count": 18,
   "id": "8174919c",
   "metadata": {},
   "outputs": [
    {
     "name": "stdout",
     "output_type": "stream",
     "text": [
      "[[1 2 3]\n",
      " [3 2 1]]\n",
      "2\n",
      "6\n",
      "(2, 3)\n",
      "int64\n"
     ]
    }
   ],
   "source": [
    "matriz = np.array([[1, 2, 3], [3, 2, 1]])\n",
    "print(matriz)\n",
    "print(len(matriz))\n",
    "print(matriz.size)\n",
    "print(matriz.shape)\n",
    "print(matriz.dtype)"
   ]
  },
  {
   "cell_type": "code",
   "execution_count": null,
   "id": "8866724e",
   "metadata": {},
   "outputs": [
    {
     "name": "stdout",
     "output_type": "stream",
     "text": [
      "[-6.95250701e-310  7.39122206e-321  0.00000000e+000  9.62938509e-312\n",
      "  0.00000000e+000  3.25060610e-319  0.00000000e+000]\n"
     ]
    }
   ],
   "source": [
    "dados_e = np.empty(7) # Outra forma de criar vetores\n",
    "print(dados_e)"
   ]
  },
  {
   "cell_type": "code",
   "execution_count": 24,
   "id": "cc0ddf31",
   "metadata": {},
   "outputs": [
    {
     "name": "stdout",
     "output_type": "stream",
     "text": [
      "[3.45 3.45 3.45 3.45 3.45 3.45 3.45]\n"
     ]
    }
   ],
   "source": [
    "dados_f = np.empty(7)\n",
    "dados_f.fill(3.45)\n",
    "print(dados_f)"
   ]
  },
  {
   "cell_type": "code",
   "execution_count": 27,
   "id": "a6b13d35",
   "metadata": {},
   "outputs": [
    {
     "name": "stdout",
     "output_type": "stream",
     "text": [
      "[0 2 4 6]\n",
      "[0 2 4 6]\n"
     ]
    }
   ],
   "source": [
    "dados_a = np.arange(0, 7, 2)\n",
    "print(dados_a)\n",
    "dados_afloar = np.arange(7.0)\n",
    "print(dados_a)"
   ]
  },
  {
   "cell_type": "code",
   "execution_count": 37,
   "id": "9cc18c67",
   "metadata": {},
   "outputs": [
    {
     "name": "stdout",
     "output_type": "stream",
     "text": [
      "[1. 1. 1. 1. 1. 1. 1.]\n",
      "[[1. 1. 1. 1. 1.]\n",
      " [1. 1. 1. 1. 1.]\n",
      " [1. 1. 1. 1. 1.]]\n",
      "Teste de eficiência:  [1. 1. 1. 1. 1. 1. 1. 1. 1. 1.]\n",
      "CPU times: total: 0 ns\n",
      "Wall time: 81.3 μs\n",
      "CPU times: total: 0 ns\n",
      "Wall time: 34.3 μs\n"
     ]
    }
   ],
   "source": [
    "dados_ones = np.ones(7)\n",
    "dados_onesdim = np.ones([3, 5])\n",
    "print(dados_ones)\n",
    "print(dados_onesdim)\n",
    "\n",
    "# mesmo efeito - qual seria mais eficiente?\n",
    "vetor_A = np.empty(10)\n",
    "vetor_A = np.ones(10)\n",
    "print(f\"Teste de eficiência: \", vetor_A)\n",
    "%time vetor_A = np.ones(10)\n",
    "%time vetor_A = np.empty(10)"
   ]
  },
  {
   "cell_type": "code",
   "execution_count": 39,
   "id": "6d0915b8",
   "metadata": {},
   "outputs": [
    {
     "name": "stdout",
     "output_type": "stream",
     "text": [
      "[[0. 0. 0. 0. 0.]\n",
      " [0. 0. 0. 0. 0.]\n",
      " [0. 0. 0. 0. 0.]]\n"
     ]
    }
   ],
   "source": [
    "dados_zero = np.zeros((3, 5))\n",
    "print(dados_zero)"
   ]
  },
  {
   "cell_type": "code",
   "execution_count": 41,
   "id": "d4f3338d",
   "metadata": {},
   "outputs": [
    {
     "name": "stdout",
     "output_type": "stream",
     "text": [
      "[0.45000836 0.95367174 0.88165556 0.10521803 0.35424602 0.28964532\n",
      " 0.4414655 ]\n"
     ]
    }
   ],
   "source": [
    "dados_rd = np.random.rand(7)\n",
    "print(dados_rd)"
   ]
  }
 ],
 "metadata": {
  "kernelspec": {
   "display_name": "Python 3",
   "language": "python",
   "name": "python3"
  },
  "language_info": {
   "codemirror_mode": {
    "name": "ipython",
    "version": 3
   },
   "file_extension": ".py",
   "mimetype": "text/x-python",
   "name": "python",
   "nbconvert_exporter": "python",
   "pygments_lexer": "ipython3",
   "version": "3.13.1"
  }
 },
 "nbformat": 4,
 "nbformat_minor": 5
}
