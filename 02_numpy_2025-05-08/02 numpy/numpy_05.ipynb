{
 "cells": [
  {
   "cell_type": "code",
   "execution_count": null,
   "id": "8e9f3d12-3962-4c91-b88d-8e0b8579aa77",
   "metadata": {},
   "outputs": [],
   "source": [
    "#\n",
    "# NumPy\n",
    "# Prof. Douglas Machado Tavares\n",
    "#"
   ]
  },
  {
   "cell_type": "code",
   "execution_count": null,
   "id": "c7ee13d3-eaf2-4523-a44e-6b6ac2f0c93a",
   "metadata": {},
   "outputs": [],
   "source": [
    "# O NumPy, abreviatura de Numerical Python (Python Numérico)  é um \n",
    "# pacote (um conjunto de bibliotecas) de código aberto que fornece\n",
    "# inúmeras soluções numéricas  e estruturas de dados (como vetores\n",
    "# e matrizes) eficientes e de alta capacidade de armazenamento."
   ]
  },
  {
   "cell_type": "code",
   "execution_count": null,
   "id": "cc56728b-c06d-41a1-863a-3149b0242c6d",
   "metadata": {},
   "outputs": [],
   "source": [
    "# Importando o pacote NumPy :-D\n",
    "\n",
    "import numpy as np"
   ]
  },
  {
   "cell_type": "code",
   "execution_count": null,
   "id": "893d356a-0c7a-4536-ae0a-6deb07dda58b",
   "metadata": {},
   "outputs": [],
   "source": [
    "#\n",
    "# Array:\n",
    "#        Indexações e Consultas ;-)\n",
    "#"
   ]
  },
  {
   "cell_type": "code",
   "execution_count": null,
   "id": "1319944b-9b1b-4c01-8a24-6abed1c7daf0",
   "metadata": {},
   "outputs": [],
   "source": [
    "dados = np.array([77, 66, 55, 88, 99, 88, 22, 11, 44, 88])\n",
    "print(dados)"
   ]
  },
  {
   "cell_type": "code",
   "execution_count": null,
   "id": "432784bc-e55e-4b4e-90cc-de8c9fa8ead2",
   "metadata": {},
   "outputs": [],
   "source": [
    "print(dados[2])"
   ]
  },
  {
   "cell_type": "code",
   "execution_count": null,
   "id": "37446d46-9842-472d-a57b-e8a5d732bf4a",
   "metadata": {},
   "outputs": [],
   "source": [
    "print(dados[[7, 1, 4]])"
   ]
  },
  {
   "cell_type": "code",
   "execution_count": null,
   "id": "ab7cabc2-ef37-4195-b41a-19a192d5816d",
   "metadata": {},
   "outputs": [],
   "source": [
    "print(dados[[False, True, False, False, False, True, False, True, False, False]])"
   ]
  },
  {
   "cell_type": "code",
   "execution_count": null,
   "id": "2237977f-5d45-4617-a672-57e286f5d650",
   "metadata": {},
   "outputs": [],
   "source": [
    "consulta = dados > 60\n",
    "print(consulta)"
   ]
  },
  {
   "cell_type": "code",
   "execution_count": null,
   "id": "1c212359-d751-442b-be3a-b9c6f89257c4",
   "metadata": {},
   "outputs": [],
   "source": [
    "# Podemos utilizar as duas linhas anteriores para realizar um filtro :-D\n",
    "dados[consulta]"
   ]
  },
  {
   "cell_type": "code",
   "execution_count": null,
   "id": "d0647a4c-4db1-4f51-92dd-23215eae3934",
   "metadata": {},
   "outputs": [],
   "source": [
    "# Melhorando o filtro :-D\n",
    "maiores_60 = dados[dados > 60]\n",
    "print(maiores_60)"
   ]
  },
  {
   "cell_type": "code",
   "execution_count": null,
   "id": "4b882bae-24a8-4ddb-8147-231084f61307",
   "metadata": {},
   "outputs": [],
   "source": [
    "# Obtendo elementos menores ou iguais a 55.\n",
    "menores_55 = dados[dados <= 55]\n",
    "print(menores_55)"
   ]
  },
  {
   "cell_type": "code",
   "execution_count": null,
   "id": "f5168644-b409-4769-8ef0-3a11f81800fa",
   "metadata": {},
   "outputs": [],
   "source": [
    "# É possível consultar se existe no mínimo um \n",
    "# valor menor do que 55.\n",
    "\n",
    "consulta = dados <= 55\n",
    "print(consulta)\n",
    "\n",
    "\n",
    "print(consulta.any())\n",
    "\n",
    "# ... ou\n",
    "resp = (dados <= 55).any() \n",
    "print(resp)"
   ]
  },
  {
   "cell_type": "code",
   "execution_count": null,
   "id": "54ef8c57-81cb-4682-83bd-9007491625ca",
   "metadata": {},
   "outputs": [],
   "source": [
    "# É também, possível consultar se todos os dados\n",
    "# são menores do que 55.\n",
    "print(consulta)\n",
    "\n",
    "print(consulta.all())\n",
    "\n",
    "# ... ou\n",
    "resp = (dados <= 55).all() \n",
    "print(resp)"
   ]
  },
  {
   "cell_type": "code",
   "execution_count": null,
   "id": "40627f87-f0b8-474a-ab87-12b32e9abb4f",
   "metadata": {},
   "outputs": [],
   "source": [
    "# Obtendo elementos diferentes de 88.\n",
    "\n",
    "diferentes_88 = dados[dados != 88]\n",
    "print(diferentes_88)"
   ]
  },
  {
   "cell_type": "code",
   "execution_count": null,
   "id": "db8b38ac-518e-45e8-8e36-eb07ccb6ea09",
   "metadata": {},
   "outputs": [],
   "source": [
    "dados = np.array([[24, 200, 5678],\n",
    "                  [11, 345, 6789],\n",
    "                  [12, 913, 5623],\n",
    "                  [77, 145, 1245],\n",
    "                  [55, 800, 4567],\n",
    "                  [32, 500, 8915],\n",
    "                  [31, 200, 2915],\n",
    "                  [27, 300, 3205]])\n",
    "print(dados)"
   ]
  },
  {
   "cell_type": "code",
   "execution_count": null,
   "id": "90e7f09a-3b01-49e6-9edf-08da3c4102f8",
   "metadata": {},
   "outputs": [],
   "source": [
    "# Sabendo que dados representa uma tabela de cabeçalho\n",
    "# [Idade, Gratificação, Salário] de 8 funcionários.\n",
    "#\n",
    "# a) Determine a soma das gratificações pagas a funcionários \n",
    "#    com mais de 29 anos:\n",
    "mascara_maiores = dados[:, 0] > 29\n",
    "print(mascara_maiores)"
   ]
  },
  {
   "cell_type": "code",
   "execution_count": null,
   "id": "76c51ab3-a23a-4938-8408-0151b9ebecc8",
   "metadata": {},
   "outputs": [],
   "source": [
    "soma = dados[mascara_maiores, 1].sum()\n",
    "print(soma)"
   ]
  },
  {
   "cell_type": "code",
   "execution_count": null,
   "id": "b4a1642a-cc49-425c-9242-9f1f2aed5b6c",
   "metadata": {},
   "outputs": [],
   "source": [
    "# A consulta anterior poderia ser realizada em uma linha ;-)\n",
    "# porém, cuidado com a baixa legibilidade :-(\n",
    "\n",
    "print(dados[dados[:, 0] > 29, 1].sum())"
   ]
  },
  {
   "cell_type": "code",
   "execution_count": null,
   "id": "1eaefba3-e530-4982-b130-9e3973cb157d",
   "metadata": {},
   "outputs": [],
   "source": [
    "# b) Determine a média salarial  dos funcionários que\n",
    "#    recebem uma gratificação menor do que R$ 500.00."
   ]
  },
  {
   "cell_type": "code",
   "execution_count": null,
   "id": "1dd88bbb-9769-4725-9ce7-d4d8ff129ad6",
   "metadata": {},
   "outputs": [],
   "source": [
    "mascara = dados[:, 1] < 500\n",
    "dados_filtrados = dados[mascara]\n",
    "dados_filtrados[:, -1].mean()"
   ]
  },
  {
   "cell_type": "code",
   "execution_count": null,
   "id": "42c17d60-de68-490b-a819-93f9ddbc3f4c",
   "metadata": {},
   "outputs": [],
   "source": [
    "mascara = dados[:, 1] < 500\n",
    "dados[mascara, -1].mean()"
   ]
  },
  {
   "cell_type": "code",
   "execution_count": null,
   "id": "8808f2ec-2ca0-49c5-a87a-5087801d7fc1",
   "metadata": {},
   "outputs": [],
   "source": [
    "np.mean(dados[dados[:, 1] < 500][:, -1])"
   ]
  },
  {
   "cell_type": "code",
   "execution_count": null,
   "id": "306d6d16-2894-4c65-b366-78181ce9de3d",
   "metadata": {},
   "outputs": [],
   "source": [
    "# c) Determine a média salarial dos funcionários com\n",
    "#    mais de 30 anos e que recebem  uma gratificação \n",
    "#    menor do que R$ 600.00."
   ]
  },
  {
   "cell_type": "code",
   "execution_count": null,
   "id": "466963b3-bd30-4d65-a5bc-bfdb4d6e6c96",
   "metadata": {},
   "outputs": [],
   "source": [
    "mascara = (dados[:, 0] > 30) & (dados[:, 1] < 600)\n",
    "dados[mascara, 2].mean()"
   ]
  },
  {
   "cell_type": "code",
   "execution_count": null,
   "id": "67a7c9dc-4727-4ef2-baa9-8c0af1ddad14",
   "metadata": {},
   "outputs": [],
   "source": [
    "# Fim ;-)"
   ]
  }
 ],
 "metadata": {
  "kernelspec": {
   "display_name": "Python 3 (ipykernel)",
   "language": "python",
   "name": "python3"
  },
  "language_info": {
   "codemirror_mode": {
    "name": "ipython",
    "version": 3
   },
   "file_extension": ".py",
   "mimetype": "text/x-python",
   "name": "python",
   "nbconvert_exporter": "python",
   "pygments_lexer": "ipython3",
   "version": "3.12.7"
  }
 },
 "nbformat": 4,
 "nbformat_minor": 5
}
