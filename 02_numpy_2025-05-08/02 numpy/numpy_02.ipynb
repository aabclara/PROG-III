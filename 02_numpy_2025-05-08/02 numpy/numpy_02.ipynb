{
 "cells": [
  {
   "cell_type": "code",
   "execution_count": null,
   "id": "8e9f3d12-3962-4c91-b88d-8e0b8579aa77",
   "metadata": {},
   "outputs": [],
   "source": [
    "#\n",
    "# NumPy\n",
    "# Prof. Douglas Machado Tavares\n",
    "#"
   ]
  },
  {
   "cell_type": "code",
   "execution_count": null,
   "id": "c7ee13d3-eaf2-4523-a44e-6b6ac2f0c93a",
   "metadata": {},
   "outputs": [],
   "source": [
    "# O NumPy, abreviatura de Numerical Python (Python Numérico)  é um \n",
    "# pacote (um conjunto de bibliotecas) de código aberto que fornece\n",
    "# inúmeras soluções numéricas  e estruturas de dados (como vetores\n",
    "# e matrizes) eficientes e de alta capacidade de armazenamento."
   ]
  },
  {
   "cell_type": "code",
   "execution_count": null,
   "id": "683c24e0-98e6-4c6a-8467-125ad5744686",
   "metadata": {},
   "outputs": [],
   "source": [
    "# Importando o pacote NumPy :-D\n",
    "\n",
    "import numpy as np"
   ]
  },
  {
   "cell_type": "code",
   "execution_count": null,
   "id": "d2ebf7f4-21bd-4973-bc7a-6bcd6a92b930",
   "metadata": {},
   "outputs": [],
   "source": [
    "#\n",
    "# Array:\n",
    "#        Concatenação\n",
    "#"
   ]
  },
  {
   "cell_type": "code",
   "execution_count": null,
   "id": "de95ec42-5978-48c5-936e-0e6f4ae55ea7",
   "metadata": {},
   "outputs": [],
   "source": [
    "dados_x = np.array((1, 3, 5, 7, 9, 2, 4, 6, 8))  "
   ]
  },
  {
   "cell_type": "code",
   "execution_count": null,
   "id": "af42b71a-f923-43f1-a0bb-1f63fd7162f0",
   "metadata": {},
   "outputs": [],
   "source": [
    "dados_y = np.arange(10, 100, 10)"
   ]
  },
  {
   "cell_type": "code",
   "execution_count": null,
   "id": "4805ede4-83a6-410a-884f-9fadefee6b77",
   "metadata": {},
   "outputs": [],
   "source": [
    "print(dados_x)\n",
    "print(dados_y)"
   ]
  },
  {
   "cell_type": "code",
   "execution_count": null,
   "id": "487d951b-0cd0-453b-b2a7-214df51b11f5",
   "metadata": {},
   "outputs": [],
   "source": [
    "dados_xy = dados_x + dados_y\n",
    "print(dados_xy)\n",
    "# Obs.: O operador '+' entre duas variáveis do tipo array não é concatenação :-/"
   ]
  },
  {
   "cell_type": "code",
   "execution_count": null,
   "id": "1d3d6eba-29dc-4001-b050-e409eca795bf",
   "metadata": {},
   "outputs": [],
   "source": [
    "# Agora vamos concatenar :-D\n",
    "\n",
    "dados_xy = np.concatenate((dados_x, dados_y))\n",
    "# Obs.: O parâmetro é uma tupla contendo os dois arrays.\n",
    "print(dados_xy)"
   ]
  },
  {
   "cell_type": "code",
   "execution_count": null,
   "id": "c443369c-39b4-4b2d-9c1a-80ab958cf495",
   "metadata": {},
   "outputs": [],
   "source": [
    "# Concatenar na vertical - Empilhar na vertical\n",
    "\n",
    "dados_xy = np.vstack((dados_x, dados_y))\n",
    "# Obs.: O parâmetro é uma tupla contendo os dois arrays.\n",
    "print(dados_xy)"
   ]
  },
  {
   "cell_type": "code",
   "execution_count": null,
   "id": "c4abeda7-953a-4498-a5ac-41086a4e4595",
   "metadata": {},
   "outputs": [],
   "source": [
    "# Concatenar na horizontal - Empilhar na horizontal\n",
    "\n",
    "dados_xy = np.hstack((dados_x, dados_y))\n",
    "# Obs.: O parâmetro é uma tupla contendo os dois arrays.\n",
    "print(dados_xy)\n",
    "# Obs.: Mesmo resultado do np.concatenate ;-)"
   ]
  },
  {
   "cell_type": "code",
   "execution_count": null,
   "id": "bfdce349-c965-4d6b-9ada-ad00f87bbf10",
   "metadata": {},
   "outputs": [],
   "source": [
    "#\n",
    "# Array:\n",
    "#        Adicionando no final de Linhas e Colunas\n",
    "#"
   ]
  },
  {
   "cell_type": "code",
   "execution_count": null,
   "id": "7ccfaf1a-7b25-47e9-bafa-c176f40de4a5",
   "metadata": {},
   "outputs": [],
   "source": [
    "dados_M = np.array([[70,  10,  50],\n",
    "                    [71,  11,  51],\n",
    "                    [75,  15,  55],\n",
    "                    [76,  16,  56]])"
   ]
  },
  {
   "cell_type": "code",
   "execution_count": null,
   "id": "237ba3fd-45c2-473f-8e73-7b2c826cda48",
   "metadata": {},
   "outputs": [],
   "source": [
    "dados_M = np.append(dados_M, np.array([[78, 18, 58]]), axis=0)\n",
    "dados_M"
   ]
  },
  {
   "cell_type": "code",
   "execution_count": null,
   "id": "c2c72618-7c1b-490d-931f-40eaf52be98d",
   "metadata": {},
   "outputs": [],
   "source": [
    "dados_M = np.append(dados_M, [[72, 12, 52]], axis=0)\n",
    "dados_M"
   ]
  },
  {
   "cell_type": "code",
   "execution_count": null,
   "id": "e1382028-8359-438c-a377-336a1d75144e",
   "metadata": {},
   "outputs": [],
   "source": [
    "dados_M = np.append(dados_M, [[20], [21], [25], [26], [28], [22]], axis=1)\n",
    "dados_M"
   ]
  },
  {
   "cell_type": "code",
   "execution_count": null,
   "id": "81cb875a-d354-473d-9f90-3ca7a0cb5465",
   "metadata": {},
   "outputs": [],
   "source": [
    "#\n",
    "# Array:\n",
    "#        Remoção de Linhas e Colunas\n",
    "#"
   ]
  },
  {
   "cell_type": "code",
   "execution_count": 1,
   "id": "5d1ccb86-eddd-4c4b-9dd8-ad5c65f4e03d",
   "metadata": {},
   "outputs": [
    {
     "ename": "NameError",
     "evalue": "name 'np' is not defined",
     "output_type": "error",
     "traceback": [
      "\u001b[0;31m---------------------------------------------------------------------------\u001b[0m",
      "\u001b[0;31mNameError\u001b[0m                                 Traceback (most recent call last)",
      "\u001b[0;32m/tmp/ipykernel_17447/2052457767.py\u001b[0m in \u001b[0;36m<module>\u001b[0;34m\u001b[0m\n\u001b[0;32m----> 1\u001b[0;31m dados_m = np.array([[70,  10,  50],\n\u001b[0m\u001b[1;32m      2\u001b[0m                     \u001b[0;34m[\u001b[0m\u001b[0;36m71\u001b[0m\u001b[0;34m,\u001b[0m  \u001b[0;36m11\u001b[0m\u001b[0;34m,\u001b[0m  \u001b[0;36m51\u001b[0m\u001b[0;34m]\u001b[0m\u001b[0;34m,\u001b[0m\u001b[0;34m\u001b[0m\u001b[0;34m\u001b[0m\u001b[0m\n\u001b[1;32m      3\u001b[0m                     \u001b[0;34m[\u001b[0m\u001b[0;36m72\u001b[0m\u001b[0;34m,\u001b[0m  \u001b[0;36m12\u001b[0m\u001b[0;34m,\u001b[0m  \u001b[0;36m52\u001b[0m\u001b[0;34m]\u001b[0m\u001b[0;34m,\u001b[0m\u001b[0;34m\u001b[0m\u001b[0;34m\u001b[0m\u001b[0m\n\u001b[1;32m      4\u001b[0m                     \u001b[0;34m[\u001b[0m\u001b[0;36m73\u001b[0m\u001b[0;34m,\u001b[0m  \u001b[0;36m13\u001b[0m\u001b[0;34m,\u001b[0m  \u001b[0;36m53\u001b[0m\u001b[0;34m]\u001b[0m\u001b[0;34m,\u001b[0m\u001b[0;34m\u001b[0m\u001b[0;34m\u001b[0m\u001b[0m\n\u001b[1;32m      5\u001b[0m                     \u001b[0;34m[\u001b[0m\u001b[0;36m74\u001b[0m\u001b[0;34m,\u001b[0m  \u001b[0;36m14\u001b[0m\u001b[0;34m,\u001b[0m  \u001b[0;36m54\u001b[0m\u001b[0;34m]\u001b[0m\u001b[0;34m,\u001b[0m\u001b[0;34m\u001b[0m\u001b[0;34m\u001b[0m\u001b[0m\n",
      "\u001b[0;31mNameError\u001b[0m: name 'np' is not defined"
     ]
    }
   ],
   "source": [
    "dados_m = np.array([[70,  10,  50],\n",
    "                    [71,  11,  51],\n",
    "                    [72,  12,  52],\n",
    "                    [73,  13,  53],\n",
    "                    [74,  14,  54],\n",
    "                    [75,  15,  55],\n",
    "                    [76,  16,  56],\n",
    "                    [77,  17,  57],\n",
    "                    [78,  18,  58],\n",
    "                    [79,  19,  59]])"
   ]
  },
  {
   "cell_type": "code",
   "execution_count": null,
   "id": "d48bd8b4-a586-4078-8f3b-2df778c40893",
   "metadata": {},
   "outputs": [],
   "source": [
    "# np.delete não apaga linhas ou colunas, \n",
    "# ele retorna um NOVO array não contendo \n",
    "# linhas ou colunas especificadas.\n",
    "dados_p = np.delete(dados_m, 1, axis=0)\n",
    "print(dados_m)\n",
    "print()\n",
    "print(dados_p)"
   ]
  },
  {
   "cell_type": "code",
   "execution_count": null,
   "id": "e85b83bb-12a4-4275-affa-759060b3602f",
   "metadata": {},
   "outputs": [],
   "source": [
    "# Este quadro é para demonstrar que o dados_p não é uma \n",
    "# referência para dados_m.\n",
    "dados_p[0][0] = 666\n",
    "print(dados_m)\n",
    "print()\n",
    "print(dados_p)"
   ]
  },
  {
   "cell_type": "code",
   "execution_count": null,
   "id": "99cea5b1-7743-4327-80ed-42b3911bfd0d",
   "metadata": {},
   "outputs": [],
   "source": [
    "dados_p = np.delete(dados_m, 1, axis=1)\n",
    "print(dados_m)\n",
    "print()\n",
    "print(dados_p)"
   ]
  },
  {
   "cell_type": "code",
   "execution_count": null,
   "id": "7bdb3c5f-a566-4931-b17b-48b50f40c044",
   "metadata": {},
   "outputs": [],
   "source": [
    "dados_p = np.delete(dados_m, [5, 2, 8], axis=0)\n",
    "print(dados_m)\n",
    "print()\n",
    "print(dados_p)"
   ]
  },
  {
   "cell_type": "code",
   "execution_count": null,
   "id": "67a7c9dc-4727-4ef2-baa9-8c0af1ddad14",
   "metadata": {},
   "outputs": [],
   "source": [
    "# Fim ;-)"
   ]
  }
 ],
 "metadata": {
  "kernelspec": {
   "display_name": "Python 3",
   "language": "python",
   "name": "python3"
  },
  "language_info": {
   "codemirror_mode": {
    "name": "ipython",
    "version": 3
   },
   "file_extension": ".py",
   "mimetype": "text/x-python",
   "name": "python",
   "nbconvert_exporter": "python",
   "pygments_lexer": "ipython3",
   "version": "3.10.12"
  }
 },
 "nbformat": 4,
 "nbformat_minor": 5
}
