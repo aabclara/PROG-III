{
 "cells": [
  {
   "cell_type": "code",
   "execution_count": null,
   "id": "8e9f3d12-3962-4c91-b88d-8e0b8579aa77",
   "metadata": {},
   "outputs": [],
   "source": [
    "#\n",
    "# NumPy\n",
    "# Prof. Douglas Machado Tavares\n",
    "#"
   ]
  },
  {
   "cell_type": "code",
   "execution_count": null,
   "id": "c7ee13d3-eaf2-4523-a44e-6b6ac2f0c93a",
   "metadata": {},
   "outputs": [],
   "source": [
    "# O NumPy, abreviatura de Numerical Python (Python Numérico)  é um \n",
    "# pacote (um conjunto de bibliotecas) de código aberto que fornece\n",
    "# inúmeras soluções numéricas  e estruturas de dados (como vetores\n",
    "# e matrizes) eficientes e de alta capacidade de armazenamento."
   ]
  },
  {
   "cell_type": "code",
   "execution_count": null,
   "id": "cc56728b-c06d-41a1-863a-3149b0242c6d",
   "metadata": {},
   "outputs": [],
   "source": [
    "# Importando o pacote NumPy :-D\n",
    "\n",
    "import numpy as np"
   ]
  },
  {
   "cell_type": "code",
   "execution_count": null,
   "id": "893d356a-0c7a-4536-ae0a-6deb07dda58b",
   "metadata": {},
   "outputs": [],
   "source": [
    "#\n",
    "# Array:\n",
    "#        Obtendo arrays de arquivos\n",
    "#"
   ]
  },
  {
   "cell_type": "code",
   "execution_count": null,
   "id": "4da9e3d9-a7ef-4cea-bf7f-90181d666508",
   "metadata": {},
   "outputs": [],
   "source": [
    "ls dados/*.txt"
   ]
  },
  {
   "cell_type": "code",
   "execution_count": null,
   "id": "9c1d9711-c7c5-4487-9aa4-5d2e16e809a8",
   "metadata": {},
   "outputs": [],
   "source": [
    "# Abrindo um arquivo txt:\n",
    "#\n",
    "#     A função np.loadtxt() possui diversos parâmetros, mas\n",
    "#     neste exemplo será usado o mínimo necessário.  Leia a\n",
    "#     documentação para saber mais ;-)\n",
    "\n",
    "dados = np.loadtxt('dados/coelhos.txt')"
   ]
  },
  {
   "cell_type": "code",
   "execution_count": null,
   "id": "685ac117-31b9-4d83-882e-e5cb213a64f0",
   "metadata": {},
   "outputs": [],
   "source": [
    "print(type(dados))\n",
    "print(dados)"
   ]
  },
  {
   "cell_type": "code",
   "execution_count": null,
   "id": "a23e4e88-4168-4d3e-95b6-fa90fef1bda4",
   "metadata": {},
   "outputs": [],
   "source": [
    "print(dados.dtype)\n",
    "print(dados.shape)\n",
    "print(dados.size)\n",
    "print(len(dados))"
   ]
  },
  {
   "cell_type": "code",
   "execution_count": null,
   "id": "d3da039e-2556-49ee-9afe-3dc87669311d",
   "metadata": {},
   "outputs": [],
   "source": [
    "# Convertendo a massa para Quilogramas:\n",
    "\n",
    "dados[:, 0] = dados[:, 0] / 1000  \n",
    "# ...ou\n",
    "#   >>> dados[:, 0] /= 1000\n",
    "\n",
    "print(dados)"
   ]
  },
  {
   "cell_type": "code",
   "execution_count": null,
   "id": "0b1de649-2691-4a86-94a2-183108cf9bf1",
   "metadata": {},
   "outputs": [],
   "source": [
    "# Convertendo a temperatura para ⁰C:\n",
    "\n",
    "dados[:, 1] = 5 / 9 * (dados[:, 1] - 32)\n",
    "print(dados)"
   ]
  },
  {
   "cell_type": "code",
   "execution_count": null,
   "id": "6ce777eb-1be3-47da-b25c-0363ebba5754",
   "metadata": {},
   "outputs": [],
   "source": [
    "# Trocando as colunas de lugar:\n",
    "#    De [Massa, Temperatura, Comprimento] \n",
    "#    para [Comprimento, Massa, Temperatura]\n",
    "\n",
    "dados = dados[:, [2, 0, 1]]\n",
    "print(dados)"
   ]
  },
  {
   "cell_type": "code",
   "execution_count": null,
   "id": "f16f1aa5-107e-4bb4-953c-f2007a662b87",
   "metadata": {},
   "outputs": [],
   "source": [
    "# Salvando os dados modificados em um outro arquivo txt:\n",
    "#\n",
    "#     A função pd.savetxt()  possui diversos parâmetros.\n",
    "#     Leia a documentação para saber mais ;-)\n",
    "#\n",
    "\n",
    "np.savetxt('dados/saida_coelhos.txt', dados, fmt=[\"%10.1f\", \"%10.2f\", \"%10.1f\"])"
   ]
  },
  {
   "cell_type": "code",
   "execution_count": null,
   "id": "0500b82e-50cf-47e8-9210-486145067aba",
   "metadata": {},
   "outputs": [],
   "source": [
    "# Arquivo: notas_biologia.txt\n",
    "\n",
    "# Lendo apenas algumas colunas específicas."
   ]
  },
  {
   "cell_type": "code",
   "execution_count": null,
   "id": "b71fbca3-a0e8-4f46-996b-41ce54fdded5",
   "metadata": {},
   "outputs": [],
   "source": [
    "dados = np.loadtxt('dados/notas_biologia.txt', delimiter=\":\", usecols=(1, 3), encoding=\"utf-8\")\n",
    "print(dados)\n",
    "# Notas do 2⁰ e 4⁰ bimestres :-)"
   ]
  },
  {
   "cell_type": "code",
   "execution_count": null,
   "id": "c9e39877-1c99-4bfc-9f96-e4e061936d8f",
   "metadata": {},
   "outputs": [],
   "source": [
    "#\n",
    "#\n",
    "# Arquivo: preparo.txt"
   ]
  },
  {
   "cell_type": "code",
   "execution_count": null,
   "id": "b639b999-ec10-4091-b79f-635d2e6a1255",
   "metadata": {},
   "outputs": [],
   "source": [
    "# Neste arquivo existem duas colunas, a primeira com o tempo dado em\n",
    "# min:seg e a segunda com a temperatura em ⁰C.\n",
    "\n",
    "# O objetivo será criar um array com duas colunas, a primeira com o\n",
    "# tempo em segundos e a segunda com a temperatura em ⁰C."
   ]
  },
  {
   "cell_type": "code",
   "execution_count": null,
   "id": "158e7447-1117-48b8-97ac-21bd4127a5af",
   "metadata": {},
   "outputs": [],
   "source": [
    "# Para resolver o problema durante a leitura será usado uma função.\n",
    "# Esta será passada como parâmetro para a função np.loadtxt()."
   ]
  },
  {
   "cell_type": "code",
   "execution_count": null,
   "id": "e8516c6e-7205-4157-8b3d-bfa7625a9252",
   "metadata": {},
   "outputs": [],
   "source": [
    "def converter(tempo):\n",
    "    \"\"\" Converte o tempo 'min:seg'  para  segundos\"\"\"\n",
    "    mm, ss = tempo.split(':')\n",
    "    mm, ss = int(mm), int(ss)\n",
    "    return 60*mm + ss\n",
    "\n",
    "dados_preparo = np.loadtxt('dados/preparo.txt', converters={0:converter})\n",
    "# O dicionário contém uma função com a chave 0 zero.\n",
    "# Assim, a função converter será aplicada somente na coluna 0."
   ]
  },
  {
   "cell_type": "code",
   "execution_count": null,
   "id": "323f292c-1fa5-4402-a1ab-80a2d341c79a",
   "metadata": {},
   "outputs": [],
   "source": [
    "print(dados_preparo.dtype)\n",
    "print()\n",
    "print(dados_preparo)"
   ]
  },
  {
   "cell_type": "code",
   "execution_count": null,
   "id": "4a2319b8-2a40-4aa8-9549-2d3f054d544f",
   "metadata": {},
   "outputs": [],
   "source": [
    "#\n",
    "#\n",
    "# Arquivo: amostra_D34.txt"
   ]
  },
  {
   "cell_type": "code",
   "execution_count": null,
   "id": "fe300944-4b3d-44c7-b888-539e1926f6ab",
   "metadata": {},
   "outputs": [],
   "source": [
    "# Modificação de dados durante a leitura ;-)\n",
    "#\n",
    "# Leia os comentários do arquivo 'amostra_D34.txt'.\n",
    "# Neste arquivo existem dados que não são números.\n",
    "#\n",
    "\n",
    "def ajustar(x):\n",
    "    \"\"\" Ajusta os valores especiais. \"\"\"\n",
    "    x = x.upper()\n",
    "    if x == 'NR':\n",
    "        return 70\n",
    "    if x == 'EL':\n",
    "        return 2000\n",
    "    return x\n",
    "\n",
    "amostra = np.loadtxt('dados/amostra_D34.txt', converters=ajustar, dtype='int32')"
   ]
  },
  {
   "cell_type": "code",
   "execution_count": null,
   "id": "fb816eb6-ef6e-4a05-a010-bd10367c5ade",
   "metadata": {},
   "outputs": [],
   "source": [
    "print(amostra.dtype)\n",
    "print()\n",
    "print(amostra)"
   ]
  },
  {
   "cell_type": "code",
   "execution_count": null,
   "id": "ab924747-5eab-4cd2-b16a-bc6d9970252f",
   "metadata": {},
   "outputs": [],
   "source": [
    "#\n",
    "#\n",
    "# Arquivo: amostra_F13.txt"
   ]
  },
  {
   "cell_type": "code",
   "execution_count": null,
   "id": "0c9d98fe-c2cf-404a-8627-45b608f63ab2",
   "metadata": {},
   "outputs": [],
   "source": [
    "# Leia os comentários do arquivo 'amostra_F13.txt'.\n",
    "# Neste arquivo existem dados que não são números.\n",
    "#\n",
    "\n",
    "def ajustar(x):\n",
    "    \"\"\" Ajusta os valores especiais. \"\"\"\n",
    "    x = x.upper().strip()\n",
    "    if x == 'NR' or x == '':\n",
    "        return 70\n",
    "    if x == 'EL':\n",
    "        return 2000\n",
    "    return x\n",
    "\n",
    "amostra = np.loadtxt('dados/amostra_F13.txt', delimiter=\":\", converters=ajustar, dtype='int32')\n",
    "\n",
    "# Obs.: Só foi possível tratar os dados ausentes (vazios) visto que \n",
    "#       o separador utilizado foi diferente de espaço em branco."
   ]
  },
  {
   "cell_type": "code",
   "execution_count": null,
   "id": "d4d2b9d1-3899-4faa-910c-63f4f5784185",
   "metadata": {},
   "outputs": [],
   "source": [
    "print(amostra.dtype)\n",
    "print()\n",
    "print(amostra)"
   ]
  },
  {
   "cell_type": "code",
   "execution_count": null,
   "id": "641a7170-2d45-4119-a498-6db4b077b2cd",
   "metadata": {},
   "outputs": [],
   "source": [
    "# Fim ;-)"
   ]
  }
 ],
 "metadata": {
  "kernelspec": {
   "display_name": "Python 3 (ipykernel)",
   "language": "python",
   "name": "python3"
  },
  "language_info": {
   "codemirror_mode": {
    "name": "ipython",
    "version": 3
   },
   "file_extension": ".py",
   "mimetype": "text/x-python",
   "name": "python",
   "nbconvert_exporter": "python",
   "pygments_lexer": "ipython3",
   "version": "3.12.7"
  }
 },
 "nbformat": 4,
 "nbformat_minor": 5
}
