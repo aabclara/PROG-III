{
 "cells": [
  {
   "cell_type": "code",
   "execution_count": null,
   "id": "8e9f3d12-3962-4c91-b88d-8e0b8579aa77",
   "metadata": {},
   "outputs": [],
   "source": [
    "#\n",
    "# NumPy\n",
    "# Prof. Douglas Machado Tavares\n",
    "#"
   ]
  },
  {
   "cell_type": "code",
   "execution_count": null,
   "id": "c7ee13d3-eaf2-4523-a44e-6b6ac2f0c93a",
   "metadata": {},
   "outputs": [],
   "source": [
    "# O NumPy, abreviatura de Numerical Python (Python Numérico)  é um \n",
    "# pacote (um conjunto de bibliotecas) de código aberto que fornece\n",
    "# inúmeras soluções numéricas  e estruturas de dados (como vetores\n",
    "# e matrizes) eficientes e de alta capacidade de armazenamento."
   ]
  },
  {
   "cell_type": "code",
   "execution_count": null,
   "id": "cc56728b-c06d-41a1-863a-3149b0242c6d",
   "metadata": {},
   "outputs": [],
   "source": [
    "# Importando o pacote NumPy :-D\n",
    "\n",
    "import numpy as np"
   ]
  },
  {
   "cell_type": "code",
   "execution_count": null,
   "id": "893d356a-0c7a-4536-ae0a-6deb07dda58b",
   "metadata": {},
   "outputs": [],
   "source": [
    "#\n",
    "# Array:\n",
    "#        Alguns Testes ;-D\n",
    "#"
   ]
  },
  {
   "cell_type": "code",
   "execution_count": null,
   "id": "b601f4e6-2b4e-4c56-a0d0-d6548742a2ea",
   "metadata": {},
   "outputs": [],
   "source": [
    "# Testes simples para visualizar a potencial diferença \n",
    "# de desempenho."
   ]
  },
  {
   "cell_type": "code",
   "execution_count": null,
   "id": "6bdef48c-25d0-4dec-a690-9b5025f27c21",
   "metadata": {},
   "outputs": [],
   "source": [
    "#\n",
    "#\n",
    "#\n",
    "# Primeira bateria de testes (A, B, C e D).\n",
    "# \n",
    "# Dado uma estrutura_x, gerar uma nova estrutura contendo\n",
    "# todos os elementos da estrutura_x multiplicados por 3.1415.\n",
    "#"
   ]
  },
  {
   "cell_type": "code",
   "execution_count": null,
   "id": "bbe284c8-e7bc-488e-b0d0-8c4c04a676c7",
   "metadata": {},
   "outputs": [],
   "source": [
    "# Teste A: utilizando listas\n",
    "\n",
    "lista_x = list(range(15_000_000))\n",
    "\n",
    "def multiplicar_todos(lista):\n",
    "    \"\"\" Retorna uma nova lista com todos os elementos da 'lista' \n",
    "         multiplicados por 3.1415\n",
    "    \"\"\"\n",
    "    resp = []\n",
    "    for e in lista:\n",
    "        resp.append(e * 3.1415)\n",
    "    return resp\n",
    "\n",
    "%time nova_lista = multiplicar_todos(lista_x)\n",
    "del lista_x, nova_lista"
   ]
  },
  {
   "cell_type": "code",
   "execution_count": null,
   "id": "0b02d40e-39f4-4279-92b2-77b8d1278884",
   "metadata": {},
   "outputs": [],
   "source": [
    "# Teste B: utilizando map\n",
    "\n",
    "lista_x = list(range(15_000_000))\n",
    "\n",
    "def multiplicar(x):\n",
    "    \"\"\" Retorna x multiplicado por 3.1415 \"\"\"\n",
    "    return x * 3.1415\n",
    "\n",
    "%time nova_lista = list(map(multiplicar, lista_x))\n",
    "del lista_x, nova_lista"
   ]
  },
  {
   "cell_type": "code",
   "execution_count": null,
   "id": "8f9a2f08-55ad-44fa-8126-f9b477aa51ca",
   "metadata": {},
   "outputs": [],
   "source": [
    "# Teste C: utilizando compreensão de listas\n",
    "\n",
    "lista_x = list(range(15_000_000))\n",
    "\n",
    "%time nova_lista = [e * 3.1415 for e in lista_x]\n",
    "del lista_x, nova_lista"
   ]
  },
  {
   "cell_type": "code",
   "execution_count": null,
   "id": "41f99bc5-ca47-4540-83e3-b3f3440d571c",
   "metadata": {},
   "outputs": [],
   "source": [
    "# Teste D: com NumPy :-D\n",
    "\n",
    "vetor_x = np.arange(15_000_000)\n",
    "\n",
    "%time novo_vetor = 3.1415 * vetor_x\n",
    "del vetor_x, novo_vetor"
   ]
  },
  {
   "cell_type": "code",
   "execution_count": null,
   "id": "c71d6cb8-b370-4e49-97b2-d6feef83faae",
   "metadata": {},
   "outputs": [],
   "source": [
    "# Ordenando os testes pelo tempo gasto:\n",
    "#\n",
    "#   • 1⁰ colocado: Teste D - 18 vezes menos tempo gasto que o 2⁰ colocado :-)\n",
    "#   • 2⁰ colocado: Teste C\n",
    "#   • 3⁰ colocado: Teste A\n",
    "#   • 4⁰ colocado: Teste B"
   ]
  },
  {
   "cell_type": "code",
   "execution_count": null,
   "id": "f950ac0b-2880-4827-b582-64cd96bf2c3e",
   "metadata": {},
   "outputs": [],
   "source": [
    "#\n",
    "#\n",
    "#\n",
    "# Segunda bateria de testes (G, H, I e J).\n",
    "# \n",
    "# Gerar uma nova estrutura contendo 2 GB de dados.\n",
    "# Uma estrutura com 250_000_000 floats de 8 bytes cada.\n",
    "#"
   ]
  },
  {
   "cell_type": "code",
   "execution_count": null,
   "id": "17c78dd7-6952-469a-884a-cd477453dc6d",
   "metadata": {},
   "outputs": [],
   "source": [
    "# Teste G:\n",
    "\n",
    "%time lista_x = [3.1415] * 250_000_000\n",
    "del lista_x"
   ]
  },
  {
   "cell_type": "code",
   "execution_count": null,
   "id": "353c55d1-4e3e-46ea-b307-1e9b819d18ad",
   "metadata": {},
   "outputs": [],
   "source": [
    "# Teste H:\n",
    "\n",
    "%time vetor_x = np.empty(250_000_000); vetor_x.fill(3.1415)\n",
    "del vetor_x"
   ]
  },
  {
   "cell_type": "code",
   "execution_count": null,
   "id": "1b059255-d56d-4fc2-988d-60cd00a73382",
   "metadata": {},
   "outputs": [],
   "source": [
    "# Teste I:\n",
    "\n",
    "%time vetor_x = np.zeros(250_000_000) + 3.1415\n",
    "del vetor_x"
   ]
  },
  {
   "cell_type": "code",
   "execution_count": null,
   "id": "ea171904-98b9-4a7b-8707-9f02f0ae74f0",
   "metadata": {},
   "outputs": [],
   "source": [
    "# Teste J:\n",
    "\n",
    "%time vetor_x = np.ones(250_000_000) * 3.1415\n",
    "print(vetor_x)\n",
    "del vetor_x"
   ]
  },
  {
   "cell_type": "code",
   "execution_count": null,
   "id": "1e1d527a-f69b-4ba3-8eb2-ca50ba9f0c31",
   "metadata": {},
   "outputs": [],
   "source": [
    "# Ordenando os testes pelo tempo gasto:\n",
    "#\n",
    "#   • 1⁰ colocado: Teste G e Teste H (praticamente empatados).\n",
    "#   • 2⁰ colocado: Teste I e Teste J (praticamente empatados)."
   ]
  },
  {
   "cell_type": "code",
   "execution_count": null,
   "id": "4e4d08c2-255d-4550-a0a0-009badcf436b",
   "metadata": {},
   "outputs": [],
   "source": [
    "# Fim ;-)"
   ]
  }
 ],
 "metadata": {
  "kernelspec": {
   "display_name": "Python 3 (ipykernel)",
   "language": "python",
   "name": "python3"
  },
  "language_info": {
   "codemirror_mode": {
    "name": "ipython",
    "version": 3
   },
   "file_extension": ".py",
   "mimetype": "text/x-python",
   "name": "python",
   "nbconvert_exporter": "python",
   "pygments_lexer": "ipython3",
   "version": "3.12.7"
  }
 },
 "nbformat": 4,
 "nbformat_minor": 5
}
