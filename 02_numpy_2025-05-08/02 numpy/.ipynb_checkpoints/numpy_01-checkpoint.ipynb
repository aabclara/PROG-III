{
 "cells": [
  {
   "cell_type": "code",
   "execution_count": null,
   "id": "8e9f3d12-3962-4c91-b88d-8e0b8579aa77",
   "metadata": {},
   "outputs": [],
   "source": [
    "#\n",
    "# NumPy\n",
    "# Prof. Douglas Machado Tavares\n",
    "#"
   ]
  },
  {
   "cell_type": "code",
   "execution_count": null,
   "id": "c7ee13d3-eaf2-4523-a44e-6b6ac2f0c93a",
   "metadata": {},
   "outputs": [],
   "source": [
    "# O NumPy, abreviatura de Numerical Python (Python Numérico)  é um \n",
    "# pacote (um conjunto de bibliotecas) de código aberto que fornece\n",
    "# inúmeras soluções numéricas  e estruturas de dados (como vetores\n",
    "# e matrizes) eficientes e de alta capacidade de armazenamento."
   ]
  },
  {
   "cell_type": "code",
   "execution_count": null,
   "id": "7dd50202-5123-4e89-be52-8fee5e3d92b1",
   "metadata": {},
   "outputs": [],
   "source": [
    "# Criado em 2005 por Travis Oliphant,  o projeto NumPy foi baseado\n",
    "# nos projetos  Numeric  e  Numarray  com o  objetivo  de reunir a \n",
    "# comunidade  em  torno  de um único  pacote  de  processamento de \n",
    "# arrays (vetores e matrizes).\n",
    "#\n",
    "# NumPy é considerado um dos pacotes básicos mais importantes para\n",
    "# o processamento numérico em Python."
   ]
  },
  {
   "cell_type": "code",
   "execution_count": null,
   "id": "683c24e0-98e6-4c6a-8467-125ad5744686",
   "metadata": {},
   "outputs": [],
   "source": [
    "# Importando o pacote NumPy :-D\n",
    "\n",
    "import numpy as np"
   ]
  },
  {
   "cell_type": "code",
   "execution_count": null,
   "id": "59f229fa-903b-4005-b108-6dafc61e4dac",
   "metadata": {},
   "outputs": [],
   "source": [
    "#\n",
    "# Array:\n",
    "#        Criação\n",
    "#"
   ]
  },
  {
   "cell_type": "code",
   "execution_count": null,
   "id": "b57128df-f4d2-4cab-996f-74ffb99af147",
   "metadata": {},
   "outputs": [],
   "source": [
    "dados_x = np.array([11, 3, 66, 77, 33, 55, 77])\n",
    "print(dados_x)"
   ]
  },
  {
   "cell_type": "code",
   "execution_count": null,
   "id": "422d584f-e1b2-4e06-979c-7ebb6e04412f",
   "metadata": {},
   "outputs": [],
   "source": [
    "type(dados_x)"
   ]
  },
  {
   "cell_type": "code",
   "execution_count": null,
   "id": "97741146-6164-4611-82b7-5e74c2bdf57c",
   "metadata": {},
   "outputs": [],
   "source": [
    "print(len(dados_x))\n",
    "print(dados_x.size)\n",
    "print(dados_x.shape)\n",
    "print(dados_x.dtype)"
   ]
  },
  {
   "cell_type": "code",
   "execution_count": null,
   "id": "7dacb449-5444-4130-a294-f70c741f23a9",
   "metadata": {},
   "outputs": [],
   "source": [
    "dados_m = np.array([[15, 17], [31, 37], [57, 59]])\n",
    "print(dados_m)"
   ]
  },
  {
   "cell_type": "code",
   "execution_count": null,
   "id": "9c3348f2-e190-473d-8969-f2a0ebf3d0a4",
   "metadata": {},
   "outputs": [],
   "source": [
    "print(len(dados_m))\n",
    "print(dados_m.size)\n",
    "print(dados_m.shape)\n",
    "print(dados_m.dtype)"
   ]
  },
  {
   "cell_type": "code",
   "execution_count": null,
   "id": "ecd0f45e-09b5-44ce-8f91-417eade2c17f",
   "metadata": {},
   "outputs": [],
   "source": [
    "# Transposta:\n",
    "dados_tm = dados_m.T\n",
    "dados_tm"
   ]
  },
  {
   "cell_type": "code",
   "execution_count": null,
   "id": "3d9f143d-a246-472c-9d2e-fe12f1dfe1e9",
   "metadata": {},
   "outputs": [],
   "source": [
    "dados_e = np.empty(7)\n",
    "print(dados_e)"
   ]
  },
  {
   "cell_type": "code",
   "execution_count": null,
   "id": "2d7b8f7d-cb38-4a6f-8b76-102312bbb082",
   "metadata": {},
   "outputs": [],
   "source": [
    "dados_e.fill(3.1415)\n",
    "print(dados_e)"
   ]
  },
  {
   "cell_type": "code",
   "execution_count": null,
   "id": "7361d993-d7cc-4043-a0dd-7ce8ed74e4a4",
   "metadata": {},
   "outputs": [],
   "source": [
    "dados_m = np.empty((3, 4))\n",
    "print(dados_m)"
   ]
  },
  {
   "cell_type": "code",
   "execution_count": null,
   "id": "df8d7211-8546-4704-a057-7085a79a1a71",
   "metadata": {},
   "outputs": [],
   "source": [
    "dados_x = np.arange(7) # [0, 7)   \n",
    "print(dados_x)"
   ]
  },
  {
   "cell_type": "code",
   "execution_count": null,
   "id": "49cd0b8d-6b6d-4b98-a18d-661589e3ca35",
   "metadata": {},
   "outputs": [],
   "source": [
    "dados_x = np.arange(100, 182, 5)  # [100, 182)\n",
    "print(dados_x)"
   ]
  },
  {
   "cell_type": "code",
   "execution_count": null,
   "id": "5b25fa5f-ff22-41e3-b871-33569dc9cd3d",
   "metadata": {},
   "outputs": [],
   "source": [
    "dados_x = np.arange(7.0) # [0, 7.0) \n",
    "print(dados_x)"
   ]
  },
  {
   "cell_type": "code",
   "execution_count": null,
   "id": "671be9e3-628c-444f-a2ec-371219bb625e",
   "metadata": {},
   "outputs": [],
   "source": [
    "dados_u = np.ones(7)\n",
    "print(dados_u)"
   ]
  },
  {
   "cell_type": "code",
   "execution_count": null,
   "id": "1438a213-4cc3-48f0-b614-73a2248ba606",
   "metadata": {},
   "outputs": [],
   "source": [
    "dados_u = np.ones((3, 5))\n",
    "print(dados_u)"
   ]
  },
  {
   "cell_type": "code",
   "execution_count": null,
   "id": "d02fed5b-dde9-48fc-95ca-6100a06fa261",
   "metadata": {},
   "outputs": [],
   "source": [
    "dados_z = np.zeros(7)\n",
    "print(dados_z)"
   ]
  },
  {
   "cell_type": "code",
   "execution_count": null,
   "id": "56872ffd-eaa1-453b-9713-95a2be6f327c",
   "metadata": {},
   "outputs": [],
   "source": [
    "dados_z = np.zeros((3, 5))\n",
    "print(dados_z)"
   ]
  },
  {
   "cell_type": "code",
   "execution_count": null,
   "id": "4d656032-a839-4997-914d-270f42df21f8",
   "metadata": {},
   "outputs": [],
   "source": [
    "# Ao trabalhar com geração  de números pseudoaleatórios, você\n",
    "# pode configurar a semente  de geração. Assim, será possível\n",
    "# repetir futuramente uma sequência que já foi gerada.\n",
    "# >>> np.random.seed(7070)\n",
    "#\n",
    "#\n",
    "# Toda vez que uma Máquina Virtual Python é iniciada uma nova\n",
    "# semente é configurada. Assim, não é necessário fazer:\n",
    "# >>> np.random.seed(time.time_ns())"
   ]
  },
  {
   "cell_type": "code",
   "execution_count": null,
   "id": "5bfcf9d9-2e26-4c42-ad47-0c0492fdcfd0",
   "metadata": {},
   "outputs": [],
   "source": [
    "# Array com 7 números floats aleatórios entre 0 e 1.\n",
    "dados_rd = np.random.rand(7)\n",
    "print(dados_rd)"
   ]
  },
  {
   "cell_type": "code",
   "execution_count": null,
   "id": "dc922e2f-3aeb-449f-848b-91eea762a5f2",
   "metadata": {},
   "outputs": [],
   "source": [
    "dados_rd = np.random.rand(3, 5)\n",
    "print(dados_rd)\n",
    "# Obs.: Diferente de np.ones e np.zeros a função np.random.rand não recebe uma tupla :-("
   ]
  },
  {
   "cell_type": "code",
   "execution_count": null,
   "id": "93437a2d-724a-43a8-9b3c-33db36f057cf",
   "metadata": {},
   "outputs": [],
   "source": [
    "# Array com 7 números inteiros aleatórios entre 20 e 30. \n",
    "dados_rd = np.random.randint(20, 30, 7)\n",
    "print(dados_rd)"
   ]
  },
  {
   "cell_type": "code",
   "execution_count": null,
   "id": "18cb9a17-dfb3-4ae4-85d0-8884be00a493",
   "metadata": {},
   "outputs": [],
   "source": [
    "dados_rd = np.random.randint(20, 30, (3, 5))\n",
    "print(dados_rd)"
   ]
  },
  {
   "cell_type": "code",
   "execution_count": null,
   "id": "7dc1b5ba-4ef3-42a7-a93a-ade34a547105",
   "metadata": {},
   "outputs": [],
   "source": [
    "# Array contendo  15 alturas geradas de forma  aleatória\n",
    "# seguindo uma Distribuição Normal de mu=169 e sigma=17.\n",
    "\n",
    "dados_alturas = np.random.normal(169, 17, 15)\n",
    "print(dados_alturas)"
   ]
  },
  {
   "cell_type": "code",
   "execution_count": null,
   "id": "6f7f3ff2-30b1-4593-8401-6d4168f4aeff",
   "metadata": {},
   "outputs": [],
   "source": [
    "# Array de  duas dimensões  contento  15  alturas geradas de forma \n",
    "# aleatória seguindo uma Distribuição Normal de mu=169 e sigma=17.\n",
    "\n",
    "dados_alturas = np.random.normal(169, 17, (3, 5))\n",
    "print(dados_alturas)"
   ]
  },
  {
   "cell_type": "code",
   "execution_count": null,
   "id": "89bcb227-be4b-4016-ad05-b7c6bb5f7f17",
   "metadata": {},
   "outputs": [],
   "source": [
    "# Array contendo 10 números (floats) igualmente espaçados\n",
    "# onde o primeiro número é 100 e o último é 150.\n",
    "dados_v = np.linspace(100, 150, 15)\n",
    "print(dados_v)"
   ]
  },
  {
   "cell_type": "code",
   "execution_count": null,
   "id": "6d552203-8040-4acc-925e-7dcfec791c32",
   "metadata": {},
   "outputs": [],
   "source": [
    "#\n",
    "# Array:\n",
    "#        Tipo dos Elementos Armazenados\n",
    "#"
   ]
  },
  {
   "cell_type": "code",
   "execution_count": null,
   "id": "1d02d6ad-02fe-42fd-b9fa-0ed9b852f3a8",
   "metadata": {},
   "outputs": [],
   "source": [
    "dados_a = np.array([11, 3, 66, 77, 33, 55, 77])\n",
    "print(dados_a)\n",
    "print(dados_a.dtype)"
   ]
  },
  {
   "cell_type": "code",
   "execution_count": null,
   "id": "d85041fd-b9bb-42c9-b90f-8c8d4bd4c7dd",
   "metadata": {},
   "outputs": [],
   "source": [
    "dados_a = np.array([11, 3, 66, 77, 33, 55, 77], dtype='int64')\n",
    "print(dados_a)\n",
    "print(dados_a.dtype)"
   ]
  },
  {
   "cell_type": "code",
   "execution_count": null,
   "id": "4aa3b179-835d-4d85-95f7-d2263f7e75d2",
   "metadata": {},
   "outputs": [],
   "source": [
    "dados_b = np.array([11, 3, 66, 77, 33, 55, 77], dtype='int32')\n",
    "print(dados_b)\n",
    "print(dados_b.dtype)"
   ]
  },
  {
   "cell_type": "code",
   "execution_count": null,
   "id": "b6b54f70-8388-476c-86aa-108b094803bd",
   "metadata": {},
   "outputs": [],
   "source": [
    "dados_c = np.array([11, 3, 66, 77, 33, 55, 77], dtype='int16')\n",
    "print(dados_c)\n",
    "print(dados_c.dtype)"
   ]
  },
  {
   "cell_type": "code",
   "execution_count": null,
   "id": "1c84454b-d818-47e7-a3c1-c586a32f9998",
   "metadata": {},
   "outputs": [],
   "source": [
    "dados_d = np.array([11, 3, 66, 77, 33, 55, 77], dtype='float32')\n",
    "print(dados_d)\n",
    "print(dados_d.dtype)"
   ]
  },
  {
   "cell_type": "code",
   "execution_count": null,
   "id": "f145faeb-0f8c-472a-b858-9ebd9d615ec4",
   "metadata": {},
   "outputs": [],
   "source": [
    "dados_e = np.array([11, 3, 66, 77, 33, 55, 77], dtype='float64')\n",
    "print(dados_e)\n",
    "print(dados_e.dtype)"
   ]
  },
  {
   "cell_type": "code",
   "execution_count": null,
   "id": "6e6038db-88e4-42ca-8cc3-afa547d16a91",
   "metadata": {},
   "outputs": [],
   "source": [
    "dados_f = np.array([11, 3, 66, 77, 33, 55, 77], dtype='float128')\n",
    "print(dados_f)\n",
    "print(dados_f.dtype)"
   ]
  },
  {
   "cell_type": "code",
   "execution_count": null,
   "id": "1b48d6e8-35d8-4f79-ae30-faedb3a6be72",
   "metadata": {},
   "outputs": [],
   "source": [
    "dados_cx = np.array([11, 3, 66, 77, 33, 55, 77], dtype='complex')\n",
    "print(dados_cx)\n",
    "print(dados_cx.dtype)"
   ]
  },
  {
   "cell_type": "code",
   "execution_count": null,
   "id": "d5b6acdb-23f9-4e88-9c06-4a3e6225c6f1",
   "metadata": {},
   "outputs": [],
   "source": [
    "dados_cx = np.array([complex(11, 3), 66, 77, complex(3.3, 55), 3.1415])\n",
    "print(dados_cx)\n",
    "print(dados_cx.dtype)"
   ]
  },
  {
   "cell_type": "code",
   "execution_count": null,
   "id": "597932a0-e105-4f35-ac90-87a8fc71ff2d",
   "metadata": {},
   "outputs": [],
   "source": [
    "# Lembre-se. Arrays são homogêneos. Se uma lista heterogênea for passada\n",
    "# como parâmetro para o construtor do array, tipos serão convertidos.\n",
    "dados_g = np.array([11, 3, 6.6, 77, 33, 55, 77])\n",
    "print(dados_g)\n",
    "print(dados_g.dtype)\n",
    "# Obs.: O único float 6.6 fez com que todos os demais elementos \n",
    "#       fossem armazenados como float."
   ]
  },
  {
   "cell_type": "code",
   "execution_count": null,
   "id": "a6a8296d-ad2b-42d8-a5bd-7c431f42db61",
   "metadata": {},
   "outputs": [],
   "source": [
    "dados_s = np.array([11, 3, 6.6, 'CEFET-MG', 77, 33, 55])\n",
    "print(dados_s)\n",
    "print(dados_s.dtype)\n",
    "# Obs.: A única string 'CEFET-MG' fez com que todos os demais\n",
    "#       elementos fossem armazenados como strings de tamanho 32."
   ]
  },
  {
   "cell_type": "code",
   "execution_count": null,
   "id": "af73eecf-ba57-41f4-80a3-45cce349451e",
   "metadata": {},
   "outputs": [],
   "source": [
    "dados_uf = np.array(['AC', 'AL', 'BA', 'ES', 'MG', 'SP', 'RN'])\n",
    "print(dados_uf)\n",
    "print(dados_uf.dtype)"
   ]
  },
  {
   "cell_type": "code",
   "execution_count": null,
   "id": "bc2cf3cd-39dd-4781-881c-83437a82c831",
   "metadata": {},
   "outputs": [],
   "source": [
    "dados_t = np.array(['A1', 'A2', 'PP3', 'Q1', 'Q2'])\n",
    "print(dados_t)\n",
    "print(dados_t.dtype)"
   ]
  },
  {
   "cell_type": "code",
   "execution_count": null,
   "id": "f33d5572-9e91-4ade-afa2-0f63d6e95886",
   "metadata": {},
   "outputs": [],
   "source": [
    "dados_x = np.array([18, 36, 73, 5, 77], dtype='int32')\n",
    "print(dados_x)\n",
    "print(dados_x.dtype)\n",
    "\n",
    "dados_x[2] = 123.77\n",
    "print(dados_x)\n",
    "print(dados_x.dtype)\n",
    "# Obs.: Como dados_a foi definido como um array de elementos int32, ele\n",
    "#       permanecerá como um array composto  por elementos int32.  Neste\n",
    "#       exemplo, na atribuição, NumPy muda 123.77 para 123, porém estás\n",
    "#       conversões não funcionam para todos os tipos numéricos."
   ]
  },
  {
   "cell_type": "code",
   "execution_count": null,
   "id": "ace2680f-ecbb-4090-9eab-bcb03bc13e90",
   "metadata": {},
   "outputs": [],
   "source": [
    "# Retorna um novo array contendo todos os elementos do array \n",
    "# corrente, porém com o tipo alterado.\n",
    "dados_b = dados_a.astype('float128')\n",
    "print(dados_b)\n",
    "print(dados_b.dtype)"
   ]
  },
  {
   "cell_type": "code",
   "execution_count": null,
   "id": "660a9f78-acc1-4b53-ac6e-92df8116df25",
   "metadata": {},
   "outputs": [],
   "source": [
    "# Retorna um novo array contendo todos os elementos do array \n",
    "# corrente, porém com o tipo alterado.\n",
    "dados_b = dados_a.astype('int32')\n",
    "print(dados_b)\n",
    "print(dados_b.dtype)"
   ]
  },
  {
   "cell_type": "code",
   "execution_count": null,
   "id": "ba412eee-075d-4a6b-b02d-c7bf8fa7c21e",
   "metadata": {},
   "outputs": [],
   "source": [
    "# Retorna um novo array contendo todos os elementos do array \n",
    "# corrente, porém com o tipo alterado.\n",
    "dados_b = dados_a.astype('<U8')\n",
    "print(dados_b)\n",
    "print(dados_b.dtype)"
   ]
  },
  {
   "cell_type": "code",
   "execution_count": null,
   "id": "060404ad-538e-4569-83ae-604f7bbf25fe",
   "metadata": {},
   "outputs": [],
   "source": [
    "# Fim ;-)"
   ]
  }
 ],
 "metadata": {
  "kernelspec": {
   "display_name": "Python 3 (ipykernel)",
   "language": "python",
   "name": "python3"
  },
  "language_info": {
   "codemirror_mode": {
    "name": "ipython",
    "version": 3
   },
   "file_extension": ".py",
   "mimetype": "text/x-python",
   "name": "python",
   "nbconvert_exporter": "python",
   "pygments_lexer": "ipython3",
   "version": "3.12.7"
  }
 },
 "nbformat": 4,
 "nbformat_minor": 5
}
