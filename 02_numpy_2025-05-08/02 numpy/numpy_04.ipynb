{
 "cells": [
  {
   "cell_type": "code",
   "execution_count": null,
   "id": "8e9f3d12-3962-4c91-b88d-8e0b8579aa77",
   "metadata": {},
   "outputs": [],
   "source": [
    "#\n",
    "# NumPy\n",
    "# Prof. Douglas Machado Tavares\n",
    "#"
   ]
  },
  {
   "cell_type": "code",
   "execution_count": null,
   "id": "c7ee13d3-eaf2-4523-a44e-6b6ac2f0c93a",
   "metadata": {},
   "outputs": [],
   "source": [
    "# O NumPy, abreviatura de Numerical Python (Python Numérico)  é um \n",
    "# pacote (um conjunto de bibliotecas) de código aberto que fornece\n",
    "# inúmeras soluções numéricas  e estruturas de dados (como vetores\n",
    "# e matrizes) eficientes e de alta capacidade de armazenamento."
   ]
  },
  {
   "cell_type": "code",
   "execution_count": null,
   "id": "cc56728b-c06d-41a1-863a-3149b0242c6d",
   "metadata": {},
   "outputs": [],
   "source": [
    "# Importando o pacote NumPy :-D\n",
    "\n",
    "import numpy as np"
   ]
  },
  {
   "cell_type": "code",
   "execution_count": null,
   "id": "893d356a-0c7a-4536-ae0a-6deb07dda58b",
   "metadata": {},
   "outputs": [],
   "source": [
    "#\n",
    "# Array:\n",
    "#        Algumas Funções Estatísticas:\n",
    "#"
   ]
  },
  {
   "cell_type": "code",
   "execution_count": null,
   "id": "dc5977bd-9c40-47b0-8932-7452fc347b64",
   "metadata": {},
   "outputs": [],
   "source": [
    "dados_x = np.random.randint(100, 900, 10)\n",
    "print(dados_x)\n",
    "print()\n",
    "dados_m = np.random.randint(100, 900, (3, 5))\n",
    "print(dados_m)"
   ]
  },
  {
   "cell_type": "code",
   "execution_count": null,
   "id": "53a85eec-f855-4bc7-a8c1-8f8ec7aaa3f9",
   "metadata": {},
   "outputs": [],
   "source": [
    "#         média:   dados_x.mean()   ou   np.mean(dados_x)\n",
    "#     variância:   dados_x.var()    ou   np.var(dados_x)\n",
    "# desvio padrão:   dados_x.std()    ou   np.std(dados_x)\n",
    "#       mediana:   ---somente-->         np.median(dados_x)\n",
    "#     somatório:   dados_x.sum()    ou   np.sum(dados_x)\n",
    "#        máximo:   dados_x.max()    ou   np.max(dados_x)\n",
    "#        mínimo:   dados_x.min()    ou   np.min(dados_x)"
   ]
  },
  {
   "cell_type": "code",
   "execution_count": null,
   "id": "d1d92974-f1eb-429f-a0da-003ee1cc720a",
   "metadata": {},
   "outputs": [],
   "source": [
    "m = dados_x.mean()\n",
    "print(m)\n",
    "print()\n",
    "m = np.mean(dados_x)\n",
    "print(m)\n",
    "# Média Aritmética de todos os elementos de dados_x."
   ]
  },
  {
   "cell_type": "code",
   "execution_count": null,
   "id": "44386d16-b3e2-4182-86f5-00c72220295e",
   "metadata": {},
   "outputs": [],
   "source": [
    "m = dados_m.mean()\n",
    "print(m)\n",
    "# Média Aritmética de todos os elementos de dados_m."
   ]
  },
  {
   "cell_type": "code",
   "execution_count": null,
   "id": "f7926c64-3a7c-4d31-97ed-ef75b5aeb8c9",
   "metadata": {},
   "outputs": [],
   "source": [
    "dados_xb = dados_m.mean(axis=0)\n",
    "print(dados_xb)\n",
    "print()\n",
    "\n",
    "dados_xb = dados_m.mean(0)\n",
    "print(dados_xb)\n",
    "print()\n",
    "\n",
    "dados_xb = np.mean(dados_m, axis=0)\n",
    "print(dados_xb)\n",
    "# Médias Aritméticas por coluna de dados_m."
   ]
  },
  {
   "cell_type": "code",
   "execution_count": null,
   "id": "ab5f23c0-4217-4c4c-9e74-9d8d6cf0021b",
   "metadata": {},
   "outputs": [],
   "source": [
    "dados_xb = dados_m.mean(axis=1)\n",
    "print(dados_xb)\n",
    "# Médias Aritméticas por linha de dados_m."
   ]
  },
  {
   "cell_type": "code",
   "execution_count": null,
   "id": "ec30c159-d570-454f-93f3-eab1e34e1354",
   "metadata": {},
   "outputs": [],
   "source": [
    "vp = dados_x.var(ddof=0)\n",
    "print(vp)\n",
    "# Variância Populacional de dados_x.\n",
    "# Se ddof não for passado por padrão será 0. Logo:\n",
    "# >>> dados_x.var() retorna Variância Populacional."
   ]
  },
  {
   "cell_type": "code",
   "execution_count": null,
   "id": "7f8931ac-3a70-4d7e-98d0-433697014bb6",
   "metadata": {},
   "outputs": [],
   "source": [
    "va = dados_x.var(ddof=1)\n",
    "print(va)\n",
    "# Variância Amostral de dados_x."
   ]
  },
  {
   "cell_type": "code",
   "execution_count": null,
   "id": "cb8157b4-d41c-4652-85a1-2fbafb719152",
   "metadata": {},
   "outputs": [],
   "source": [
    "print(dados_m)\n",
    "\n",
    "# Variância Amostral por coluna.\n",
    "dados_v = dados_m.var(axis=0, ddof=1)\n",
    "print()\n",
    "print(dados_v)\n",
    "\n",
    "dados_v = np.var(dados_m, axis=0, ddof=1)\n",
    "print()\n",
    "print(dados_v)"
   ]
  },
  {
   "cell_type": "code",
   "execution_count": null,
   "id": "e7ee0a59-309a-4282-8550-ee3068b8f8ad",
   "metadata": {},
   "outputs": [],
   "source": [
    "print(dados_m)\n",
    "dados_v = dados_m.var(axis=1, ddof=1)\n",
    "print()\n",
    "# Variância Amostral por linha.\n",
    "print(dados_v)"
   ]
  },
  {
   "cell_type": "code",
   "execution_count": null,
   "id": "41825ff9-1f52-48c7-96e8-7d2c90bbc689",
   "metadata": {},
   "outputs": [],
   "source": [
    "print(dados_m)\n",
    "dados_dp = dados_m.std(axis=1, ddof=1)\n",
    "print()\n",
    "# Desvio Padrão Amostral por linha.\n",
    "print(dados_dp)"
   ]
  },
  {
   "cell_type": "code",
   "execution_count": null,
   "id": "a211e10f-c6b5-4d06-9c7d-0ae55586d35c",
   "metadata": {},
   "outputs": [],
   "source": [
    "print(dados_m)\n",
    "dados_md = np.median(dados_m, axis=1)\n",
    "print()\n",
    "# Medianas por linha.\n",
    "print(dados_md)"
   ]
  },
  {
   "cell_type": "code",
   "execution_count": null,
   "id": "255efe48-0806-4cef-ab09-59f0dea3867b",
   "metadata": {},
   "outputs": [],
   "source": [
    "#\n",
    "# Array:\n",
    "#        Indexação de fatias\n",
    "#"
   ]
  },
  {
   "cell_type": "code",
   "execution_count": null,
   "id": "b7b3e3d2-306f-405b-8ddb-57f2a4ea850b",
   "metadata": {},
   "outputs": [],
   "source": [
    "# Em listas, tuplas e strings, a indexação de fatias  retorna  uma\n",
    "# uma nova estrutura de mesmo tipo.\n",
    "\n",
    "# Assim, a indexação de fatias em uma lista retorna uma nova lista.\n",
    "# Exemplo:\n",
    "lista_a = [22, 88, 99, 33, 44, 55, 66, 11]\n",
    "lista_b = lista_a[2:5]\n",
    "print(\"lista_a: \", lista_a)\n",
    "print(\"lista_b: \", lista_b)\n",
    "print()\n",
    "lista_b[2] = 777_777\n",
    "print(\"lista_a: \", lista_a)\n",
    "print(\"lista_b: \", lista_b)"
   ]
  },
  {
   "cell_type": "code",
   "execution_count": null,
   "id": "774e372f-c8ff-42b7-91a7-06c653ea0243",
   "metadata": {},
   "outputs": [],
   "source": [
    "# A indexação de fatias em um array X retorna\n",
    "# um novo array, porém os dados do novo array\n",
    "# são apenas uma referência para um intervalo\n",
    "# dos dados do array X.\n",
    "# Exemplo:\n",
    "dados_a = np.array([22, 88, 99, 33, 44, 55, 66, 11])\n",
    "dados_b = dados_a[2:5]\n",
    "print(\"dados_a: \", dados_a)\n",
    "print(\"dados_b: \", dados_b)\n",
    "print()\n",
    "dados_b[2] = 777_777\n",
    "print(\"dados_a: \", dados_a)\n",
    "print(\"dados_b: \", dados_b)"
   ]
  },
  {
   "cell_type": "code",
   "execution_count": null,
   "id": "dc1e7000-0ab8-4154-903c-f435116c7104",
   "metadata": {},
   "outputs": [],
   "source": [
    "print(id(dados_a))\n",
    "print(id(dados_b))"
   ]
  },
  {
   "cell_type": "code",
   "execution_count": null,
   "id": "67a7c9dc-4727-4ef2-baa9-8c0af1ddad14",
   "metadata": {},
   "outputs": [],
   "source": [
    "# Fim ;-)"
   ]
  }
 ],
 "metadata": {
  "kernelspec": {
   "display_name": "Python 3 (ipykernel)",
   "language": "python",
   "name": "python3"
  },
  "language_info": {
   "codemirror_mode": {
    "name": "ipython",
    "version": 3
   },
   "file_extension": ".py",
   "mimetype": "text/x-python",
   "name": "python",
   "nbconvert_exporter": "python",
   "pygments_lexer": "ipython3",
   "version": "3.12.7"
  }
 },
 "nbformat": 4,
 "nbformat_minor": 5
}
