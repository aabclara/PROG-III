{
 "cells": [
  {
   "cell_type": "code",
   "execution_count": null,
   "id": "8e9f3d12-3962-4c91-b88d-8e0b8579aa77",
   "metadata": {},
   "outputs": [],
   "source": [
    "#\n",
    "# NumPy\n",
    "# Prof. Douglas Machado Tavares\n",
    "#"
   ]
  },
  {
   "cell_type": "code",
   "execution_count": null,
   "id": "c7ee13d3-eaf2-4523-a44e-6b6ac2f0c93a",
   "metadata": {},
   "outputs": [],
   "source": [
    "# O NumPy, abreviatura de Numerical Python (Python Numérico)  é um \n",
    "# pacote (um conjunto de bibliotecas) de código aberto que fornece\n",
    "# inúmeras soluções numéricas  e estruturas de dados (como vetores\n",
    "# e matrizes) eficientes e de alta capacidade de armazenamento."
   ]
  },
  {
   "cell_type": "code",
   "execution_count": null,
   "id": "683c24e0-98e6-4c6a-8467-125ad5744686",
   "metadata": {},
   "outputs": [],
   "source": [
    "# Importando o pacote NumPy :-D\n",
    "\n",
    "import numpy as np"
   ]
  },
  {
   "cell_type": "code",
   "execution_count": null,
   "id": "1c788ac9-ba4b-4cb9-bb18-cf63388e6632",
   "metadata": {},
   "outputs": [],
   "source": [
    "#\n",
    "# Array:\n",
    "#        Operações\n",
    "#"
   ]
  },
  {
   "cell_type": "code",
   "execution_count": null,
   "id": "44ed856f-be84-4c3e-babf-553d869244bd",
   "metadata": {},
   "outputs": [],
   "source": [
    "# Array com um número:"
   ]
  },
  {
   "cell_type": "code",
   "execution_count": null,
   "id": "79205183-3769-4e5d-be6a-f67a2d6fdc97",
   "metadata": {},
   "outputs": [],
   "source": [
    "dados_a = np.random.randint(100, 900, 8)\n",
    "print(dados_a)"
   ]
  },
  {
   "cell_type": "code",
   "execution_count": null,
   "id": "80ec975e-4d9b-4baf-bf25-dd035575bc53",
   "metadata": {},
   "outputs": [],
   "source": [
    "dados_b = dados_a + 100_000\n",
    "print(dados_b)"
   ]
  },
  {
   "cell_type": "code",
   "execution_count": null,
   "id": "6a0d6c8f-e8d0-4d99-b270-f0be61c1c986",
   "metadata": {},
   "outputs": [],
   "source": [
    "dados_b = dados_a * 10\n",
    "print(dados_b)"
   ]
  },
  {
   "cell_type": "code",
   "execution_count": null,
   "id": "a4980f3e-3415-4c0f-8644-f11fa06c3c0b",
   "metadata": {},
   "outputs": [],
   "source": [
    "print(dados_a)\n",
    "dados_b = dados_a / 100\n",
    "print(dados_b)"
   ]
  },
  {
   "cell_type": "code",
   "execution_count": null,
   "id": "1210ce98-277d-4fd6-83dd-16df4bd0e36e",
   "metadata": {},
   "outputs": [],
   "source": [
    "dados_x = np.array([11, 22, 33, 44, 55])\n",
    "print(dados_x)\n",
    "dados_x += 1\n",
    "print(dados_x)"
   ]
  },
  {
   "cell_type": "code",
   "execution_count": null,
   "id": "1d6af6ba-1e2f-46bf-b6a8-1e8004d213cf",
   "metadata": {},
   "outputs": [],
   "source": [
    "# Array com array:"
   ]
  },
  {
   "cell_type": "code",
   "execution_count": null,
   "id": "9ec64bec-36b0-4a8e-9ccf-01dceb1b7385",
   "metadata": {},
   "outputs": [],
   "source": [
    "dados_x = np.array([50, 30, 40, 2, 10])\n",
    "dados_y = np.array((2, 3, 4, 5, 6))"
   ]
  },
  {
   "cell_type": "code",
   "execution_count": null,
   "id": "131978ec-2d48-4d82-a0e5-1722b2b96f6c",
   "metadata": {},
   "outputs": [],
   "source": [
    "dados_r = dados_x + dados_y\n",
    "print(dados_r)"
   ]
  },
  {
   "cell_type": "code",
   "execution_count": null,
   "id": "2bea1176-570e-40ce-b072-107cf33f4347",
   "metadata": {},
   "outputs": [],
   "source": [
    "dados_r = dados_x * dados_y\n",
    "print(dados_r)"
   ]
  },
  {
   "cell_type": "code",
   "execution_count": null,
   "id": "799df626-4d48-4c5c-aaa7-4a7deda49380",
   "metadata": {},
   "outputs": [],
   "source": [
    "dados_r = dados_x - dados_y\n",
    "print(dados_r)"
   ]
  },
  {
   "cell_type": "code",
   "execution_count": null,
   "id": "cda697f1-4e8e-4b3f-9c07-6d1fef3f3c0a",
   "metadata": {},
   "outputs": [],
   "source": [
    "dados_r = dados_x / dados_y\n",
    "print(dados_r)"
   ]
  },
  {
   "cell_type": "code",
   "execution_count": null,
   "id": "7ad8b792-437d-48a9-88c7-f88bf3bca592",
   "metadata": {},
   "outputs": [],
   "source": [
    "dados_r = dados_x ** dados_y\n",
    "print(dados_r)"
   ]
  },
  {
   "cell_type": "code",
   "execution_count": null,
   "id": "61aac64b-a073-4b04-a4b6-7ec052c369fd",
   "metadata": {},
   "outputs": [],
   "source": [
    "dados_x > dados_y"
   ]
  },
  {
   "cell_type": "code",
   "execution_count": null,
   "id": "bad36262-d031-46bb-83f2-48e50eebff85",
   "metadata": {},
   "outputs": [],
   "source": [
    "dados_x < dados_y"
   ]
  },
  {
   "cell_type": "code",
   "execution_count": null,
   "id": "220a3aa6-d01e-4842-b9c3-ae1602a15f59",
   "metadata": {},
   "outputs": [],
   "source": [
    "dados_r = dados_x > dados_y\n",
    "print(dados_r)\n",
    "print(dados_r.any())\n",
    "# dados_r.any() -> Existe no mínimo um True?"
   ]
  },
  {
   "cell_type": "code",
   "execution_count": null,
   "id": "ad0c483c-165c-45b8-ac67-db6ae11fd580",
   "metadata": {},
   "outputs": [],
   "source": [
    "dados_r = dados_x > dados_y\n",
    "print(dados_r)\n",
    "print(dados_r.all())\n",
    "# dados_r.all() -> Todos são True?"
   ]
  },
  {
   "cell_type": "code",
   "execution_count": null,
   "id": "a555132f-78b8-403f-9787-9d09063a081d",
   "metadata": {},
   "outputs": [],
   "source": [
    "# Operação de Vetores no R³ e no R²:"
   ]
  },
  {
   "cell_type": "code",
   "execution_count": null,
   "id": "175acc6c-63b6-4e68-924b-bbf7624d6d4e",
   "metadata": {},
   "outputs": [],
   "source": [
    "vet_x = np.array([1, 2, 3])\n",
    "vet_y = np.array([4, 5, 6])"
   ]
  },
  {
   "cell_type": "code",
   "execution_count": null,
   "id": "5104f130-28ca-43b6-aea7-e7b09bee5b6c",
   "metadata": {},
   "outputs": [],
   "source": [
    "# Produto de um escalar por vetor:\n",
    "vet_r = 10 * vet_x\n",
    "print(vet_r)"
   ]
  },
  {
   "cell_type": "code",
   "execution_count": null,
   "id": "18c10a4e-64f3-4fd9-b69d-9b2eb7837d17",
   "metadata": {},
   "outputs": [],
   "source": [
    "# Produto Escalar entre vetores:\n",
    "p = vet_x.dot(vet_y)\n",
    "print(p)\n",
    "# Obs.: Produto escalar é o mesmo que: sum(vet_x * vet_y)"
   ]
  },
  {
   "cell_type": "code",
   "execution_count": null,
   "id": "056800a2-7614-43ce-a6cd-52358334834b",
   "metadata": {},
   "outputs": [],
   "source": [
    "# Produto Vetorial:\n",
    "vet_r = np.cross(vet_x, vet_y)\n",
    "print(vet_r)"
   ]
  },
  {
   "cell_type": "code",
   "execution_count": null,
   "id": "8bdc10d5-0531-4588-b151-d23f8496a7c2",
   "metadata": {},
   "outputs": [],
   "source": [
    "#\n",
    "# Array:\n",
    "#        Algumas Funções\n",
    "#"
   ]
  },
  {
   "cell_type": "code",
   "execution_count": null,
   "id": "2a95f10b-fe24-458e-b3fb-3cbe11b6d045",
   "metadata": {},
   "outputs": [],
   "source": [
    "# Funções da biblioteca math.\n",
    "# \n",
    "# A maioria das funções da biblioteca  math foram \n",
    "# reimplementadas na  NumPy de forma a aceitarem\n",
    "# como parâmetro um float ou um array."
   ]
  },
  {
   "cell_type": "code",
   "execution_count": null,
   "id": "ab539128-3f3b-49db-9b1f-d8b230af99f3",
   "metadata": {},
   "outputs": [],
   "source": [
    "dados_x = np.array([5, 3, np.pi/2, np.e])\n",
    "print(dados_x)\n",
    "dados_r = np.sin(dados_x)\n",
    "print(dados_r)"
   ]
  },
  {
   "cell_type": "code",
   "execution_count": null,
   "id": "bd90c5eb-4414-457a-9df4-b47f20b9cd08",
   "metadata": {},
   "outputs": [],
   "source": [
    "print(np.sin(20))"
   ]
  },
  {
   "cell_type": "code",
   "execution_count": null,
   "id": "d9cebaab-58b1-4c31-b056-ef3ac4e85d49",
   "metadata": {},
   "outputs": [],
   "source": [
    "print(dados_x)\n",
    "dados_r = np.cos(dados_x)\n",
    "print(dados_r)"
   ]
  },
  {
   "cell_type": "code",
   "execution_count": null,
   "id": "eb1d5f6b-fd3b-4d2b-9449-dfacc9c7ffed",
   "metadata": {},
   "outputs": [],
   "source": [
    "dados_x = np.array((1000, 100, 10, 3, 2))\n",
    "print(dados_x)\n",
    "dados_r = np.log10(dados_x)\n",
    "print(dados_r)"
   ]
  },
  {
   "cell_type": "code",
   "execution_count": null,
   "id": "363e14c0-f9e0-4b32-80ed-c6c587ae0873",
   "metadata": {},
   "outputs": [],
   "source": [
    "dados_x = np.array((1024, 1000, np.e))\n",
    "print(dados_x)\n",
    "dados_r = np.log(dados_x)\n",
    "print(dados_r)\n",
    "# Obs.: Logaritmo natural."
   ]
  },
  {
   "cell_type": "code",
   "execution_count": null,
   "id": "67a7c9dc-4727-4ef2-baa9-8c0af1ddad14",
   "metadata": {},
   "outputs": [],
   "source": [
    "# Fim ;-)"
   ]
  }
 ],
 "metadata": {
  "kernelspec": {
   "display_name": "Python 3 (ipykernel)",
   "language": "python",
   "name": "python3"
  },
  "language_info": {
   "codemirror_mode": {
    "name": "ipython",
    "version": 3
   },
   "file_extension": ".py",
   "mimetype": "text/x-python",
   "name": "python",
   "nbconvert_exporter": "python",
   "pygments_lexer": "ipython3",
   "version": "3.12.7"
  }
 },
 "nbformat": 4,
 "nbformat_minor": 5
}
