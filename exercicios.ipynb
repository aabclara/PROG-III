{
 "cells": [
  {
   "cell_type": "markdown",
   "metadata": {},
   "source": [
    "## Lista de Exercícios - Estrutura de Dados em Python"
   ]
  },
  {
   "cell_type": "markdown",
   "metadata": {},
   "source": [
    "#### A. Inventário de RPG - Mochila do Aventureiro - Um aventureiro viaja por terras mágicas, sua mochila pode guardar todo tipo de item: poções, moedas, armas, e outros objetos. Vamos manipulá-la com listas em Python."
   ]
  },
  {
   "cell_type": "code",
   "execution_count": 49,
   "metadata": {},
   "outputs": [],
   "source": [
    "# Inventário Inicial: \n",
    "mochila = [\"espada\", \"poção\", \"poção\", \"ouro\", \"escudo\", \"mapa\", \"anel\", \"poção\"]"
   ]
  },
  {
   "cell_type": "markdown",
   "metadata": {},
   "source": [
    "#### 1. Adicione um item “lanterna” ao final da mochila."
   ]
  },
  {
   "cell_type": "code",
   "execution_count": 50,
   "metadata": {},
   "outputs": [
    {
     "name": "stdout",
     "output_type": "stream",
     "text": [
      "['espada', 'poção', 'poção', 'ouro', 'escudo', 'mapa', 'anel', 'poção', 'lanterna']\n"
     ]
    }
   ],
   "source": [
    "mochila.append(\"lanterna\")\n",
    "print(mochila)"
   ]
  },
  {
   "cell_type": "markdown",
   "metadata": {},
   "source": [
    "#### 2. Adicione um item “chave de prata” na posição 2.\n"
   ]
  },
  {
   "cell_type": "code",
   "execution_count": 51,
   "metadata": {},
   "outputs": [
    {
     "name": "stdout",
     "output_type": "stream",
     "text": [
      "['espada', 'poção', 'chave de prata', 'poção', 'ouro', 'escudo', 'mapa', 'anel', 'poção', 'lanterna']\n"
     ]
    }
   ],
   "source": [
    "mochila.insert(2, \"chave de prata\")\n",
    "print(mochila)"
   ]
  },
  {
   "cell_type": "markdown",
   "metadata": {},
   "source": [
    "#### 3. Retire uma poção da mochila."
   ]
  },
  {
   "cell_type": "code",
   "execution_count": 52,
   "metadata": {},
   "outputs": [
    {
     "name": "stdout",
     "output_type": "stream",
     "text": [
      "['espada', 'chave de prata', 'poção', 'ouro', 'escudo', 'mapa', 'anel', 'poção', 'lanterna']\n"
     ]
    }
   ],
   "source": [
    "mochila.remove(\"poção\")\n",
    "print(mochila)"
   ]
  },
  {
   "cell_type": "markdown",
   "metadata": {},
   "source": [
    "#### 4. Pegue, remova, o último item da mochila."
   ]
  },
  {
   "cell_type": "code",
   "execution_count": 53,
   "metadata": {},
   "outputs": [
    {
     "data": {
      "text/plain": [
       "'lanterna'"
      ]
     },
     "execution_count": 53,
     "metadata": {},
     "output_type": "execute_result"
    }
   ],
   "source": [
    "mochila.pop()"
   ]
  },
  {
   "cell_type": "markdown",
   "metadata": {},
   "source": [
    "#### 5. Conte quantas poções ainda restam."
   ]
  },
  {
   "cell_type": "code",
   "execution_count": 54,
   "metadata": {},
   "outputs": [
    {
     "name": "stdout",
     "output_type": "stream",
     "text": [
      "Ainda restam 2 poções\n"
     ]
    }
   ],
   "source": [
    "print(f\"Ainda restam {mochila.count('poção')} poções\")"
   ]
  },
  {
   "cell_type": "markdown",
   "metadata": {},
   "source": [
    "#### 6. Ordene os itens em ordem Alfabética sem alterar a original.\n",
    "\n",
    "- O método sort altera a original!! "
   ]
  },
  {
   "cell_type": "code",
   "execution_count": 56,
   "metadata": {},
   "outputs": [
    {
     "name": "stdout",
     "output_type": "stream",
     "text": [
      "['anel', 'chave de prata', 'escudo', 'espada', 'mapa', 'ouro', 'poção', 'poção']\n",
      "['espada', 'chave de prata', 'poção', 'ouro', 'escudo', 'mapa', 'anel', 'poção']\n"
     ]
    }
   ],
   "source": [
    "mochila_alfabetica = sorted(mochila)\n",
    "print(mochila_alfabetica)\n",
    "print(mochila)"
   ]
  },
  {
   "cell_type": "markdown",
   "metadata": {},
   "source": [
    "#### 7. Inverta a ordem dos itens na mochila."
   ]
  },
  {
   "cell_type": "code",
   "execution_count": 57,
   "metadata": {},
   "outputs": [
    {
     "name": "stdout",
     "output_type": "stream",
     "text": [
      "['poção', 'anel', 'mapa', 'escudo', 'ouro', 'poção', 'chave de prata', 'espada']\n"
     ]
    }
   ],
   "source": [
    "mochila.reverse()\n",
    "print(mochila)"
   ]
  },
  {
   "cell_type": "markdown",
   "metadata": {},
   "source": [
    "#### 8. Encontre a posição do item “ouro”."
   ]
  },
  {
   "cell_type": "code",
   "execution_count": 59,
   "metadata": {},
   "outputs": [
    {
     "data": {
      "text/plain": [
       "4"
      ]
     },
     "execution_count": 59,
     "metadata": {},
     "output_type": "execute_result"
    }
   ],
   "source": [
    "mochila.index(\"ouro\")"
   ]
  },
  {
   "cell_type": "markdown",
   "metadata": {},
   "source": [
    "#### 9. Faça uma cópia de segurança da mochila."
   ]
  },
  {
   "cell_type": "code",
   "execution_count": 61,
   "metadata": {},
   "outputs": [
    {
     "name": "stdout",
     "output_type": "stream",
     "text": [
      "['poção', 'anel', 'mapa', 'escudo', 'ouro', 'poção', 'chave de prata', 'espada']\n",
      "['poção', 'anel', 'mapa', 'escudo', 'ouro', 'poção', 'chave de prata', 'espada']\n"
     ]
    }
   ],
   "source": [
    "mochilaBackup = mochila.copy()\n",
    "print(mochila)\n",
    "print(mochilaBackup)"
   ]
  },
  {
   "cell_type": "markdown",
   "metadata": {},
   "source": [
    "#### 10. Limpe toda a mochila original. "
   ]
  },
  {
   "cell_type": "code",
   "execution_count": 62,
   "metadata": {},
   "outputs": [
    {
     "name": "stdout",
     "output_type": "stream",
     "text": [
      "[]\n"
     ]
    }
   ],
   "source": [
    "mochila.clear()\n",
    "print(mochila)"
   ]
  },
  {
   "cell_type": "markdown",
   "metadata": {},
   "source": [
    "#### B. Perguntas sobre Indexação e tipos - Sem rodar o código, qual o resultado para o print de cada uma das entradas abaixo:"
   ]
  },
  {
   "cell_type": "code",
   "execution_count": 65,
   "metadata": {},
   "outputs": [],
   "source": [
    "lista = ['a', 'b', 'c', 'd', ['e','f'], 'g']"
   ]
  },
  {
   "cell_type": "code",
   "execution_count": null,
   "metadata": {},
   "outputs": [],
   "source": [
    "lista[2:5] # De 2 a 4\n",
    "lista[-2:] # Último e penúltimo\n",
    "lista[::2] # Do primeiro ao último de dois em dois\n",
    "lista[6] # Erro: index não existe\n",
    "lista[100:] # Retorna uma lista vazia\n",
    "lista[-10:]  # Retorna  a lista inteira\n",
    "lista[::-1] # Imprime a lista ao contrário\n",
    "lista[1::-1] # Inicia no primeiro e volta\n",
    "lista[1:-1] # Imprime do segundo até o último\n",
    "lista[1:5:2] # Do primeiro ao quarto com passo 2\n",
    "type(lista[4]) # list\n",
    "type(lista[5]) # String\n",
    "isinstance(lista[4], str) # False\n",
    "isinstance(lista[5], str) #True"
   ]
  },
  {
   "cell_type": "markdown",
   "metadata": {},
   "source": [
    "#### C. Semelhante ao exercício A, sobre o inventário (mochila) de um jogo de RPG, vamos fazer agora uma comparação entre Tuplas e Listas. Sem rodar o código, explique o que acontece em cada caso:"
   ]
  },
  {
   "cell_type": "code",
   "execution_count": 104,
   "metadata": {},
   "outputs": [],
   "source": [
    "mochila_tupla = (\"espada\", \"escudo\", \"mapa\")  # Tupla\n",
    "mochila_lista = [\"espada\", \"escudo\", \"mapa\"]  # Lista"
   ]
  },
  {
   "cell_type": "markdown",
   "metadata": {},
   "source": [
    "a. Ao tentar adicionar o item “Poção” em ambas as mochilas.  \n",
    "*Na tupla retornará um erro, pois são imutáveis.  \n",
    "Na lista - a depender da sintaxe correta do método - irá aceitar.*\n"
   ]
  },
  {
   "cell_type": "code",
   "execution_count": 105,
   "metadata": {},
   "outputs": [
    {
     "ename": "AttributeError",
     "evalue": "'tuple' object has no attribute 'append'",
     "output_type": "error",
     "traceback": [
      "\u001b[0;31m---------------------------------------------------------------------------\u001b[0m",
      "\u001b[0;31mAttributeError\u001b[0m                            Traceback (most recent call last)",
      "\u001b[0;32m/tmp/ipykernel_7224/3771831778.py\u001b[0m in \u001b[0;36m<module>\u001b[0;34m\u001b[0m\n\u001b[0;32m----> 1\u001b[0;31m \u001b[0mmochila_tupla\u001b[0m\u001b[0;34m.\u001b[0m\u001b[0mappend\u001b[0m\u001b[0;34m(\u001b[0m\u001b[0;34m\"Poção\"\u001b[0m\u001b[0;34m)\u001b[0m\u001b[0;34m\u001b[0m\u001b[0;34m\u001b[0m\u001b[0m\n\u001b[0m",
      "\u001b[0;31mAttributeError\u001b[0m: 'tuple' object has no attribute 'append'"
     ]
    }
   ],
   "source": [
    "mochila_tupla.append(\"Poção\")"
   ]
  },
  {
   "cell_type": "code",
   "execution_count": 106,
   "metadata": {},
   "outputs": [],
   "source": [
    "mochila_lista.append(\"Poção\")"
   ]
  },
  {
   "cell_type": "markdown",
   "metadata": {},
   "source": [
    "b. Ao tente remover o \"mapa\" das duas mochilas.  \n",
    "*Na tupla, novamente retornará um erro, pois são imutáveis.  \n",
    "A lista - a depender da sintaxe correta do método - irá aceitar.*\n"
   ]
  },
  {
   "cell_type": "code",
   "execution_count": 107,
   "metadata": {},
   "outputs": [
    {
     "ename": "AttributeError",
     "evalue": "'tuple' object has no attribute 'remove'",
     "output_type": "error",
     "traceback": [
      "\u001b[0;31m---------------------------------------------------------------------------\u001b[0m",
      "\u001b[0;31mAttributeError\u001b[0m                            Traceback (most recent call last)",
      "\u001b[0;32m/tmp/ipykernel_7224/3976374899.py\u001b[0m in \u001b[0;36m<module>\u001b[0;34m\u001b[0m\n\u001b[0;32m----> 1\u001b[0;31m \u001b[0mmochila_tupla\u001b[0m\u001b[0;34m.\u001b[0m\u001b[0mremove\u001b[0m\u001b[0;34m(\u001b[0m\u001b[0;34m\"mapa\"\u001b[0m\u001b[0;34m)\u001b[0m\u001b[0;34m\u001b[0m\u001b[0;34m\u001b[0m\u001b[0m\n\u001b[0m",
      "\u001b[0;31mAttributeError\u001b[0m: 'tuple' object has no attribute 'remove'"
     ]
    }
   ],
   "source": [
    "mochila_tupla.remove(\"mapa\")"
   ]
  },
  {
   "cell_type": "code",
   "execution_count": 108,
   "metadata": {},
   "outputs": [],
   "source": [
    "mochila_lista.remove(\"mapa\")"
   ]
  },
  {
   "cell_type": "markdown",
   "metadata": {},
   "source": [
    "c. Ao tentar contar a quantidade de “escudo” em cada mochila.  \n",
    "*Funcionará normalmente.*\n"
   ]
  },
  {
   "cell_type": "code",
   "execution_count": 109,
   "metadata": {},
   "outputs": [
    {
     "data": {
      "text/plain": [
       "1"
      ]
     },
     "execution_count": 109,
     "metadata": {},
     "output_type": "execute_result"
    }
   ],
   "source": [
    "mochila_tupla.count(\"escudo\")"
   ]
  },
  {
   "cell_type": "code",
   "execution_count": 111,
   "metadata": {},
   "outputs": [
    {
     "data": {
      "text/plain": [
       "1"
      ]
     },
     "execution_count": 111,
     "metadata": {},
     "output_type": "execute_result"
    }
   ],
   "source": [
    "mochila_lista.count(\"escudo\")"
   ]
  },
  {
   "cell_type": "markdown",
   "metadata": {},
   "source": [
    "d. Ao tentar descobrir o índice do item “espada” em cada uma das mochilas.  \n",
    "*Funciona normalmente.*"
   ]
  },
  {
   "cell_type": "code",
   "execution_count": 115,
   "metadata": {},
   "outputs": [
    {
     "data": {
      "text/plain": [
       "0"
      ]
     },
     "execution_count": 115,
     "metadata": {},
     "output_type": "execute_result"
    }
   ],
   "source": [
    "mochila_tupla.index(\"espada\")\n",
    "mochila_lista.index(\"espada\")"
   ]
  },
  {
   "cell_type": "markdown",
   "metadata": {},
   "source": [
    "e. Ao tentar substituir o item “escudo” por “bota” em cada uma das mochilas.  \n",
    "*Na lista funciona normalmente.*\n",
    "*Na tupla, por conta de sua imutabilidade, retornará um erro.*"
   ]
  },
  {
   "cell_type": "code",
   "execution_count": 119,
   "metadata": {},
   "outputs": [
    {
     "name": "stdout",
     "output_type": "stream",
     "text": [
      "['espada', 'bota', 'Poção']\n"
     ]
    }
   ],
   "source": [
    "mochila_lista.index(\"escudo\")\n",
    "mochila_lista[1] = \"bota\"\n",
    "print(mochila_lista)"
   ]
  },
  {
   "cell_type": "code",
   "execution_count": 121,
   "metadata": {},
   "outputs": [
    {
     "ename": "TypeError",
     "evalue": "'tuple' object does not support item assignment",
     "output_type": "error",
     "traceback": [
      "\u001b[0;31m---------------------------------------------------------------------------\u001b[0m",
      "\u001b[0;31mTypeError\u001b[0m                                 Traceback (most recent call last)",
      "\u001b[0;32m/tmp/ipykernel_7224/3084432020.py\u001b[0m in \u001b[0;36m<module>\u001b[0;34m\u001b[0m\n\u001b[1;32m      1\u001b[0m \u001b[0mmochila_tupla\u001b[0m\u001b[0;34m.\u001b[0m\u001b[0mindex\u001b[0m\u001b[0;34m(\u001b[0m\u001b[0;34m\"escudo\"\u001b[0m\u001b[0;34m)\u001b[0m\u001b[0;34m\u001b[0m\u001b[0;34m\u001b[0m\u001b[0m\n\u001b[0;32m----> 2\u001b[0;31m \u001b[0mmochila_tupla\u001b[0m\u001b[0;34m[\u001b[0m\u001b[0;36m1\u001b[0m\u001b[0;34m]\u001b[0m \u001b[0;34m=\u001b[0m \u001b[0;34m\"bota\"\u001b[0m\u001b[0;34m\u001b[0m\u001b[0;34m\u001b[0m\u001b[0m\n\u001b[0m",
      "\u001b[0;31mTypeError\u001b[0m: 'tuple' object does not support item assignment"
     ]
    }
   ],
   "source": [
    "mochila_tupla.index(\"escudo\")\n",
    "mochila_tupla[1] = \"bota\""
   ]
  },
  {
   "cell_type": "markdown",
   "metadata": {},
   "source": [
    "#### D. Crie uma string chamada nome com o valor a seguir, tudo em minúsculo e com 3 espaços ao final, \"fulano de tal   \"."
   ]
  },
  {
   "cell_type": "code",
   "execution_count": 123,
   "metadata": {},
   "outputs": [],
   "source": [
    "nome = \"fulano de tal\""
   ]
  },
  {
   "cell_type": "markdown",
   "metadata": {},
   "source": [
    "1. Transforme o nome colocando a primeira letra maiúscula de cada palavra com exceção de “de”."
   ]
  },
  {
   "cell_type": "code",
   "execution_count": 124,
   "metadata": {},
   "outputs": [
    {
     "data": {
      "text/plain": [
       "'Fulano de Tal'"
      ]
     },
     "execution_count": 124,
     "metadata": {},
     "output_type": "execute_result"
    }
   ],
   "source": [
    "nome.title().replace(\"De\", \"de\")"
   ]
  },
  {
   "cell_type": "markdown",
   "metadata": {},
   "source": [
    "2. Remova os espaços indesejados que possam existir, tanto no início e também ao final do nome."
   ]
  },
  {
   "cell_type": "code",
   "execution_count": 125,
   "metadata": {},
   "outputs": [
    {
     "data": {
      "text/plain": [
       "'fulano de tal'"
      ]
     },
     "execution_count": 125,
     "metadata": {},
     "output_type": "execute_result"
    }
   ],
   "source": [
    "nome.strip()"
   ]
  },
  {
   "cell_type": "markdown",
   "metadata": {},
   "source": [
    "3. Converta tudo para letras maiúsculas."
   ]
  },
  {
   "cell_type": "code",
   "execution_count": 126,
   "metadata": {},
   "outputs": [
    {
     "data": {
      "text/plain": [
       "'FULANO DE TAL'"
      ]
     },
     "execution_count": 126,
     "metadata": {},
     "output_type": "execute_result"
    }
   ],
   "source": [
    "nome.upper()"
   ]
  },
  {
   "cell_type": "markdown",
   "metadata": {},
   "source": [
    "4. Converta tudo para letras minúsculas novamente."
   ]
  },
  {
   "cell_type": "code",
   "execution_count": 127,
   "metadata": {},
   "outputs": [
    {
     "data": {
      "text/plain": [
       "'fulano de tal'"
      ]
     },
     "execution_count": 127,
     "metadata": {},
     "output_type": "execute_result"
    }
   ],
   "source": [
    "nome.lower()"
   ]
  },
  {
   "cell_type": "markdown",
   "metadata": {},
   "source": [
    "5. Centralize o nome com 60 caracteres e usando o “#” para preencher os espaços que sobram de cada lado."
   ]
  },
  {
   "cell_type": "code",
   "execution_count": 129,
   "metadata": {},
   "outputs": [
    {
     "data": {
      "text/plain": [
       "'#######################fulano de tal########################'"
      ]
     },
     "execution_count": 129,
     "metadata": {},
     "output_type": "execute_result"
    }
   ],
   "source": [
    "nome.center(60, \"#\")"
   ]
  },
  {
   "cell_type": "markdown",
   "metadata": {},
   "source": [
    "6. Conte quantas vezes aparece a letra “a” ou “A” no seu nome."
   ]
  },
  {
   "cell_type": "code",
   "execution_count": 156,
   "metadata": {},
   "outputs": [
    {
     "data": {
      "text/plain": [
       "5"
      ]
     },
     "execution_count": 156,
     "metadata": {},
     "output_type": "execute_result"
    }
   ],
   "source": [
    "meuNome = \"Maria Clara Miguel Claudino\"\n",
    "meuNome.lower().count(\"a\")"
   ]
  },
  {
   "cell_type": "markdown",
   "metadata": {},
   "source": [
    "5. Encontre um dos seus sobrenomes usando as funções index() e find() e explique a diferença entre eles.  \n",
    "*O find retornou -1, o que na teoria significa que ele não encontrou.*  \n",
    "*Já o find retornou 12, correspondente ao primeiro caracter do sobrenome*"
   ]
  },
  {
   "cell_type": "code",
   "execution_count": 142,
   "metadata": {},
   "outputs": [
    {
     "name": "stdout",
     "output_type": "stream",
     "text": [
      "12\n",
      "-1\n"
     ]
    }
   ],
   "source": [
    "print((meuNome.index(\"Miguel\")))\n",
    "print(meuNome.find(\"Miguel)\"))"
   ]
  },
  {
   "cell_type": "markdown",
   "metadata": {},
   "source": [
    "6. Verifique se a string nome começa com “Ana”."
   ]
  },
  {
   "cell_type": "code",
   "execution_count": 143,
   "metadata": {},
   "outputs": [
    {
     "data": {
      "text/plain": [
       "False"
      ]
     },
     "execution_count": 143,
     "metadata": {},
     "output_type": "execute_result"
    }
   ],
   "source": [
    "meuNome.startswith(\"Ana\")"
   ]
  },
  {
   "cell_type": "markdown",
   "metadata": {},
   "source": [
    "7. Troque seu último nome por “Silva”."
   ]
  },
  {
   "cell_type": "code",
   "execution_count": 146,
   "metadata": {},
   "outputs": [
    {
     "data": {
      "text/plain": [
       "'Maria Clara Miguel da Silva'"
      ]
     },
     "execution_count": 146,
     "metadata": {},
     "output_type": "execute_result"
    }
   ],
   "source": [
    "meuNome.replace(\"Claudino\", \"da Silva\")"
   ]
  },
  {
   "cell_type": "markdown",
   "metadata": {},
   "source": [
    "8. Mostre os primeiros 5 caracteres"
   ]
  },
  {
   "cell_type": "code",
   "execution_count": 147,
   "metadata": {},
   "outputs": [
    {
     "data": {
      "text/plain": [
       "'Maria'"
      ]
     },
     "execution_count": 147,
     "metadata": {},
     "output_type": "execute_result"
    }
   ],
   "source": [
    "meuNome[:5]"
   ]
  },
  {
   "cell_type": "markdown",
   "metadata": {},
   "source": [
    "9. Mostre os últimos 5 caracteres"
   ]
  },
  {
   "cell_type": "code",
   "execution_count": 149,
   "metadata": {},
   "outputs": [
    {
     "data": {
      "text/plain": [
       "'udino'"
      ]
     },
     "execution_count": 149,
     "metadata": {},
     "output_type": "execute_result"
    }
   ],
   "source": [
    "meuNome[-5:]"
   ]
  },
  {
   "cell_type": "markdown",
   "metadata": {},
   "source": [
    "10. Inverta o seu nome, todos os caracteres. "
   ]
  },
  {
   "cell_type": "code",
   "execution_count": 154,
   "metadata": {},
   "outputs": [
    {
     "data": {
      "text/plain": [
       "'onidualC leugiM aralC airaM'"
      ]
     },
     "execution_count": 154,
     "metadata": {},
     "output_type": "execute_result"
    }
   ],
   "source": [
    "meuNome[::-1]"
   ]
  },
  {
   "cell_type": "markdown",
   "metadata": {},
   "source": [
    "11. Separe todos os nomes em uma lista e mostre apenas o primeiro nome."
   ]
  },
  {
   "cell_type": "code",
   "execution_count": 159,
   "metadata": {},
   "outputs": [
    {
     "data": {
      "text/plain": [
       "'Maria'"
      ]
     },
     "execution_count": 159,
     "metadata": {},
     "output_type": "execute_result"
    }
   ],
   "source": [
    "novoNome = meuNome.split()\n",
    "novoNome[0]"
   ]
  },
  {
   "cell_type": "markdown",
   "metadata": {},
   "source": [
    "12. Separe todos os nomes em uma lista e agora inverta os nomes retornando a lista com os nomes invertidos."
   ]
  },
  {
   "cell_type": "code",
   "execution_count": 160,
   "metadata": {},
   "outputs": [
    {
     "data": {
      "text/plain": [
       "['Claudino', 'Miguel', 'Clara', 'Maria']"
      ]
     },
     "execution_count": 160,
     "metadata": {},
     "output_type": "execute_result"
    }
   ],
   "source": [
    "novoNome[::-1]"
   ]
  },
  {
   "cell_type": "markdown",
   "metadata": {},
   "source": [
    "#### E. Exercício Final, O Mensageiro Real\n",
    "##### Você recebeu uma lista com mensagens importantes enviadas por aliados do reino. Cada mensagem é representada por uma tupla com três elementos:"
   ]
  },
  {
   "cell_type": "code",
   "execution_count": null,
   "metadata": {},
   "outputs": [],
   "source": [
    "mensagens = [\n",
    "    (\"Ana\", \"Invasão ao norte\", \"urgente\"),\n",
    "    (\"Bruno\", \"Tesouro encontrado\", \"normal\"),\n",
    "    (\"Clara\", \"Dragão acordou\", \"urgente\"),\n",
    "]\n",
    "\n",
    " # Imprima as mensagens no seguinte formato: \n",
    " # [URGENTE] Ana: Invasão ao norte  \n",
    " # [NORMAL] Bruno: Tesouro encontrado  \n",
    " # [URGENTE] Clara: Dragão acordou\n",
    " \n",
    " # O código abaixo faz corretamente essa função, mas você precisará reescrever usando\n",
    " # a palavra reservada de python \"in\", sem usar a palavra reservada \"range\"\n",
    " # e tambem deve usar os conceitos de desempacotamento aprendidos em sala.\n",
    " \n",
    "i = 0\n",
    "while i < len(mensagens):\n",
    "    dados = []\n",
    "    j = 0\n",
    "    while j < len(mensagens[i]):\n",
    "        dados.append(mensagens[i][j])\n",
    "        j += 1\n",
    "    print(f\"[{dados[2].upper()}] {dados[0]}: {dados[1]}\")\n",
    "    i += 1"
   ]
  },
  {
   "cell_type": "code",
   "execution_count": 165,
   "metadata": {},
   "outputs": [
    {
     "name": "stdout",
     "output_type": "stream",
     "text": [
      "[URGENTE] Ana: Invasão ao norte\n",
      "[NORMAL] Bruno: Tesouro encontrado\n",
      "[URGENTE] Clara: Dragão acordou\n"
     ]
    }
   ],
   "source": [
    "mensagens = [\n",
    "    (\"Ana\", \"Invasão ao norte\", \"urgente\"),\n",
    "    (\"Bruno\", \"Tesouro encontrado\", \"normal\"),\n",
    "    (\"Clara\", \"Dragão acordou\", \"urgente\"),\n",
    "]\n",
    "\n",
    "(remetente, mensagem, prioridade) = mensagens\n",
    "\n",
    "for remetente, mensagem, prioridade in mensagens:\n",
    "    print(f\"[{prioridade.upper()}] {remetente.title()}: {mensagem}\")"
   ]
  }
 ],
 "metadata": {
  "kernelspec": {
   "display_name": "Python 3",
   "language": "python",
   "name": "python3"
  },
  "language_info": {
   "codemirror_mode": {
    "name": "ipython",
    "version": 3
   },
   "file_extension": ".py",
   "mimetype": "text/x-python",
   "name": "python",
   "nbconvert_exporter": "python",
   "pygments_lexer": "ipython3",
   "version": "3.10.12"
  }
 },
 "nbformat": 4,
 "nbformat_minor": 2
}
